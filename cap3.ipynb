{
 "cells": [
  {
   "cell_type": "markdown",
   "id": "89495e86",
   "metadata": {},
   "source": [
    "## Predicting Bike Rental Station Traffic\n",
    "\n",
    "#### TODO:\n",
    "- make start/end models for each of the 6 groups\n",
    "- make function: input date/region, get traffic pred / actual\n",
    "- repo writeup (requirements/put authorship in py/slice of data)\n",
    "- flask basic\n",
    "- flask interactive\n",
    "\n",
    "#### future:\n",
    "- include weather for multi https://www.ncdc.noaa.gov/cdo-web/datatools/lcd\n",
    "- live feed: https://gbfs.divvybikes.com/gbfs/gbfs.json"
   ]
  },
  {
   "cell_type": "code",
   "execution_count": 1,
   "id": "dd214515",
   "metadata": {},
   "outputs": [],
   "source": [
    "import pandas as pd\n",
    "import numpy as np\n",
    "import matplotlib.pyplot as plt\n",
    "import pickle\n",
    "from geopy.distance import geodesic\n",
    "from sklearn.model_selection import train_test_split\n",
    "from sklearn.preprocessing import MinMaxScaler\n",
    "from sklearn.metrics import mean_squared_error\n",
    "import tensorflow as tf\n",
    "\n",
    "plt.style.use('ggplot')"
   ]
  },
  {
   "cell_type": "code",
   "execution_count": 2,
   "id": "496f3740",
   "metadata": {},
   "outputs": [],
   "source": [
    "def basic_dist(row):\n",
    "    # Gives a basic euclidean trip distance in m\n",
    "    \n",
    "    if row['round_trip'] == 1:\n",
    "        return 0\n",
    "    \n",
    "    a = (row['start_lat'], row['start_lng'])\n",
    "    \n",
    "    b = (row['end_lat'], row['end_lng'])\n",
    "    \n",
    "    return geodesic(a, b).km * 1000"
   ]
  },
  {
   "cell_type": "code",
   "execution_count": 3,
   "id": "702a82f6",
   "metadata": {},
   "outputs": [],
   "source": [
    "def station_data(region, eda=False, start_end=None):\n",
    "    '''Loads, preps, and filters data for machine learning or EDA'''\n",
    "    \n",
    "    # grab a set of station names for a given region\n",
    "    stations = get_stations(region)\n",
    "    \n",
    "    # Gather one years worth of data\n",
    "    filelist = []\n",
    "    frames = []\n",
    "    \n",
    "    for month in [4,5,6,7,8,9,10,11,12]:\n",
    "        filelist.append('data/2020{:02d}-divvy-tripdata.csv'.format(month))\n",
    "    for month in [1,2,3]:\n",
    "        filelist.append('data/2021{:02d}-divvy-tripdata.csv'.format(month))\n",
    "    \n",
    "    usecols = ['started_at', 'ended_at', 'start_station_name', 'end_station_name', 'member_casual', \n",
    "               'rideable_type', 'start_lat', 'start_lng', 'end_lat', 'end_lng']\n",
    "\n",
    "    # actually grab the data\n",
    "    for month in filelist:\n",
    "        lil_df = pd.read_csv(month, usecols=usecols)\n",
    "            \n",
    "        # decide weather to look at trips starting and/or ending in our selected region\n",
    "        if start_end == 'end':\n",
    "            mask = (lil_df['end_station_name'].isin(stations))\n",
    "        if start_end == 'start':\n",
    "            mask = (lil_df['start_station_name'].isin(stations))\n",
    "        else:\n",
    "            mask1 = (lil_df['end_station_name'].isin(stations))\n",
    "            mask2 = (lil_df['start_station_name'].isin(stations))\n",
    "            mask = mask1 | mask2\n",
    "    \n",
    "        lil_df = lil_df[mask]\n",
    "        \n",
    "        frames.append(lil_df)\n",
    "\n",
    "    df = pd.concat(frames, ignore_index=True)\n",
    "    \n",
    "    # Only relevant missing data is lat/long, warns us if ever dropping more than 1%\n",
    "    allrows = df.shape[0]\n",
    "    \n",
    "    df = df[df['start_lat'].notna()]\n",
    "    df = df[df['end_lat'].notna()]\n",
    "    if allrows/df.shape[0] > 1.01:\n",
    "        print('DROP WARNING: more than 1% of rows null')\n",
    "\n",
    "    df = df.reset_index(drop=True)\n",
    "\n",
    "    # prepping for machine learning\n",
    "    df['ended_at'] = pd.to_datetime(df['ended_at'])\n",
    "    df['started_at'] = pd.to_datetime(df['started_at'])\n",
    "\n",
    "    df['date'] = pd.to_datetime(df['ended_at']).dt.date\n",
    "    df['hour'] = df['ended_at'].dt.hour\n",
    "    \n",
    "    # For some reason each month has a few extra trips from the upcoming month\n",
    "    # change this date if you want to use newer data\n",
    "    df = df[df['date'] < pd.to_datetime('2021-04-01')]\n",
    "\n",
    "    # Future implementation can include weather data\n",
    "    #weather = grab_weather()\n",
    "    #df = df.merge(weather, how='left', left_on=['date', 'hour'], right_on=['date', 'hour'])\n",
    "    \n",
    "    # AI wouldn't have following aggregate features available for predictions, so they aren't included\n",
    "    if eda == False:      \n",
    "        # prep for machine learning\n",
    "        \n",
    "        return vectorize(df)\n",
    "\n",
    "    # daylight savings makes a few negative trip times, a quick approximate fix is okay\n",
    "    df['trip_time'] = abs((df['ended_at'] - df['started_at']).dt.total_seconds())\n",
    "    \n",
    "    # All trips above 10,800 seconds (3 hrs) are on Nov 25, must be some systemic thing\n",
    "    df = df[df['trip_time'] < 10800]\n",
    "\n",
    "    df['round_trip'] = df.apply(lambda x: 1 if x['start_station_name'] == x['end_station_name'] else 0, axis=1)\n",
    "\n",
    "    df['electric'] = df['rideable_type'].apply(lambda x: 1 if x == 'electric_bike' else 0)\n",
    "\n",
    "    df['member'] = df['member_casual'].apply(lambda x: 1 if x == 'member' else 0)\n",
    "\n",
    "    df['trip_dist'] = df.apply(basic_dist, axis=1)\n",
    "    \n",
    "    dropcols = ['rideable_type', 'member_casual', 'started_at', 'ended_at', 'start_lat', 'start_lng',\n",
    "                'end_lat', 'end_lng', 'start_station_name',  'end_station_name']\n",
    "    \n",
    "    df = df.drop(columns=dropcols)\n",
    "    \n",
    "    # extract target and add to output\n",
    "    out = df.groupby(['date', 'hour']).agg('mean')\n",
    "    \n",
    "    out['target'] = df.groupby(['date', 'hour']).size()\n",
    "    \n",
    "    # Some hours are missing, we want to include a row for that hour with target = 0\n",
    "    dti = pd.Series(pd.date_range(\"2020-04-01\", freq=\"D\", periods=365)).dt.date\n",
    "\n",
    "    idx = pd.MultiIndex.from_product([dti, np.arange(24)], names=['date', 'hour'])\n",
    "\n",
    "    # TODO: add weather columns below\n",
    "    df_blank = pd.DataFrame(data = np.zeros(shape=(365*24, 6)), \n",
    "                            index = idx,\n",
    "                            columns = ['trip_time', 'round_trip', 'electric', 'member',\n",
    "                                       'trip_dist', 'target'])\n",
    "\n",
    "    out = pd.concat([df_blank, out]).groupby(['date', 'hour']).agg('sum')\n",
    "    \n",
    "    out = out.reset_index(drop=True)\n",
    "\n",
    "    return out"
   ]
  },
  {
   "cell_type": "code",
   "execution_count": 5,
   "id": "a1bb8b10",
   "metadata": {},
   "outputs": [],
   "source": [
    "def grab_weather():\n",
    "    '''Loads and preps weather data in a pandas df'''\n",
    "    \n",
    "    #weather = pd.read_csv()\n",
    "    \n",
    "    #process it\n",
    "    \n",
    "    return weather"
   ]
  },
  {
   "cell_type": "code",
   "execution_count": 42,
   "id": "10cde142",
   "metadata": {},
   "outputs": [],
   "source": [
    "def get_stations(region):\n",
    "    '''Returns the set of station names necessary for grouping data\n",
    "    \n",
    "    possible regions: 'downtown', 'lincoln_park', 'wicker_park', 'hyde_park', 'uptown', 'chinatown'   \n",
    "    '''\n",
    "\n",
    "    groups = pd.read_csv('models/station_groups.csv')\n",
    "\n",
    "    return set(groups[groups['group'] == region].name.values)"
   ]
  },
  {
   "cell_type": "code",
   "execution_count": 7,
   "id": "31bf9e12",
   "metadata": {},
   "outputs": [],
   "source": [
    "def vectorize(inputdf):\n",
    "    '''Takes eda ready data and preprocesses it for machine learning'''\n",
    "       \n",
    "    # extract target and add to output\n",
    "    out = inputdf.groupby(['date', 'hour']).agg('mean')\n",
    "    \n",
    "    out['target'] = inputdf.groupby(['date', 'hour']).size()\n",
    "    \n",
    "    dropcols = ['start_lat', 'start_lng', 'end_lat', 'end_lng']\n",
    "\n",
    "    out = out.drop(columns=dropcols)\n",
    "    \n",
    "    # Some hours are missing, we want to include a row for that hour with target = 0\n",
    "    dti = pd.Series(pd.date_range(\"2020-04-01\", freq=\"D\", periods=365)).dt.date\n",
    "\n",
    "    idx = pd.MultiIndex.from_product([dti, np.arange(24)], names=['date', 'hour'])\n",
    "\n",
    "    # change feature names / amount when you have them\n",
    "    df_blank = pd.DataFrame(data = np.zeros(shape=(365*24, 1)), index=idx,\n",
    "                            columns=['target'])\n",
    "\n",
    "    out = pd.concat([df_blank, out]).groupby(['date', 'hour']).agg('sum')\n",
    "    \n",
    "    out = out.reset_index(drop=True)\n",
    "    \n",
    "    return out\n",
    "    \n",
    "    # weather data would need to be scaled    \n",
    "#     y = np.array(out.iloc[:, -1])\n",
    "    \n",
    "#     scaler = MinMaxScaler()\n",
    "    \n",
    "#     out = scaler.fit_transform(out.iloc[:, :-1])\n",
    "    \n",
    "#     return np.append(out, y.reshape(-1, 1), axis=1), scaler"
   ]
  },
  {
   "cell_type": "code",
   "execution_count": null,
   "id": "3cfb65b0",
   "metadata": {},
   "outputs": [],
   "source": []
  },
  {
   "cell_type": "markdown",
   "id": "94e1ebdf",
   "metadata": {},
   "source": [
    "## EDA"
   ]
  },
  {
   "cell_type": "code",
   "execution_count": 159,
   "id": "4ee49a6f",
   "metadata": {},
   "outputs": [],
   "source": [
    "dt_s = station_data('downtown', start_end='start')\n",
    "dt_e = station_data('downtown', start_end='end')"
   ]
  },
  {
   "cell_type": "code",
   "execution_count": 172,
   "id": "ddbb02d9",
   "metadata": {},
   "outputs": [
    {
     "data": {
      "image/png": "[encoded data removed]",
      "text/plain": [
       "<Figure size 864x288 with 1 Axes>"
      ]
     },
     "metadata": {},
     "output_type": "display_data"
    }
   ],
   "source": [
    "# figure of trips ending in downtown and starting in downtown (trips within downtown included in both)\n",
    "# notice how there are consistently more trips coming into downtown\n",
    "fig, ax = plt.subplots(figsize=(12,4))\n",
    "\n",
    "ax.plot(np.arange(48), dt_s[:48], label='starting in downtown')\n",
    "ax.plot(np.arange(48), dt_e[:48], label='ending in downtown')\n",
    "ax.legend();"
   ]
  },
  {
   "cell_type": "code",
   "execution_count": 185,
   "id": "9b4680b6",
   "metadata": {},
   "outputs": [
    {
     "data": {
      "text/plain": [
       "(8760, 1)"
      ]
     },
     "execution_count": 185,
     "metadata": {},
     "output_type": "execute_result"
    }
   ],
   "source": [
    "dt_s.shape"
   ]
  },
  {
   "cell_type": "code",
   "execution_count": 177,
   "id": "0768cc96",
   "metadata": {},
   "outputs": [
    {
     "data": {
      "text/html": [
       "<div>\n",
       "<style scoped>\n",
       "    .dataframe tbody tr th:only-of-type {\n",
       "        vertical-align: middle;\n",
       "    }\n",
       "\n",
       "    .dataframe tbody tr th {\n",
       "        vertical-align: top;\n",
       "    }\n",
       "\n",
       "    .dataframe thead th {\n",
       "        text-align: right;\n",
       "    }\n",
       "</style>\n",
       "<table border=\"1\" class=\"dataframe\">\n",
       "  <thead>\n",
       "    <tr style=\"text-align: right;\">\n",
       "      <th></th>\n",
       "      <th>target</th>\n",
       "    </tr>\n",
       "  </thead>\n",
       "  <tbody>\n",
       "  </tbody>\n",
       "</table>\n",
       "</div>"
      ],
      "text/plain": [
       "Empty DataFrame\n",
       "Columns: [target]\n",
       "Index: []"
      ]
     },
     "execution_count": 177,
     "metadata": {},
     "output_type": "execute_result"
    }
   ],
   "source": [
    "# not once, not one time in 8760 hours did more bikes come into downtown than left downtown\n",
    "dt_d = dt_e - dt_s\n",
    "\n",
    "dt_d[dt_d['target'] < 0]"
   ]
  },
  {
   "cell_type": "code",
   "execution_count": 180,
   "id": "55abb250",
   "metadata": {},
   "outputs": [
    {
     "data": {
      "text/html": [
       "<div>\n",
       "<style scoped>\n",
       "    .dataframe tbody tr th:only-of-type {\n",
       "        vertical-align: middle;\n",
       "    }\n",
       "\n",
       "    .dataframe tbody tr th {\n",
       "        vertical-align: top;\n",
       "    }\n",
       "\n",
       "    .dataframe thead th {\n",
       "        text-align: right;\n",
       "    }\n",
       "</style>\n",
       "<table border=\"1\" class=\"dataframe\">\n",
       "  <thead>\n",
       "    <tr style=\"text-align: right;\">\n",
       "      <th></th>\n",
       "      <th>trip_time</th>\n",
       "      <th>round_trip</th>\n",
       "      <th>electric</th>\n",
       "      <th>member</th>\n",
       "      <th>trip_dist</th>\n",
       "      <th>target</th>\n",
       "    </tr>\n",
       "  </thead>\n",
       "  <tbody>\n",
       "    <tr>\n",
       "      <th>0</th>\n",
       "      <td>441.750000</td>\n",
       "      <td>0.000000</td>\n",
       "      <td>0.000000</td>\n",
       "      <td>1.000000</td>\n",
       "      <td>1524.837027</td>\n",
       "      <td>4.0</td>\n",
       "    </tr>\n",
       "    <tr>\n",
       "      <th>1</th>\n",
       "      <td>428.500000</td>\n",
       "      <td>0.000000</td>\n",
       "      <td>0.000000</td>\n",
       "      <td>1.000000</td>\n",
       "      <td>1424.681233</td>\n",
       "      <td>2.0</td>\n",
       "    </tr>\n",
       "    <tr>\n",
       "      <th>2</th>\n",
       "      <td>1337.500000</td>\n",
       "      <td>0.500000</td>\n",
       "      <td>0.000000</td>\n",
       "      <td>0.500000</td>\n",
       "      <td>1907.174361</td>\n",
       "      <td>2.0</td>\n",
       "    </tr>\n",
       "    <tr>\n",
       "      <th>3</th>\n",
       "      <td>1027.000000</td>\n",
       "      <td>0.000000</td>\n",
       "      <td>0.000000</td>\n",
       "      <td>1.000000</td>\n",
       "      <td>4271.683931</td>\n",
       "      <td>1.0</td>\n",
       "    </tr>\n",
       "    <tr>\n",
       "      <th>4</th>\n",
       "      <td>495.666667</td>\n",
       "      <td>0.000000</td>\n",
       "      <td>0.000000</td>\n",
       "      <td>1.000000</td>\n",
       "      <td>1778.573884</td>\n",
       "      <td>3.0</td>\n",
       "    </tr>\n",
       "    <tr>\n",
       "      <th>...</th>\n",
       "      <td>...</td>\n",
       "      <td>...</td>\n",
       "      <td>...</td>\n",
       "      <td>...</td>\n",
       "      <td>...</td>\n",
       "      <td>...</td>\n",
       "    </tr>\n",
       "    <tr>\n",
       "      <th>8755</th>\n",
       "      <td>817.084848</td>\n",
       "      <td>0.048485</td>\n",
       "      <td>0.260606</td>\n",
       "      <td>0.800000</td>\n",
       "      <td>1823.531286</td>\n",
       "      <td>165.0</td>\n",
       "    </tr>\n",
       "    <tr>\n",
       "      <th>8756</th>\n",
       "      <td>1016.803738</td>\n",
       "      <td>0.028037</td>\n",
       "      <td>0.289720</td>\n",
       "      <td>0.738318</td>\n",
       "      <td>1903.862947</td>\n",
       "      <td>107.0</td>\n",
       "    </tr>\n",
       "    <tr>\n",
       "      <th>8757</th>\n",
       "      <td>1217.700000</td>\n",
       "      <td>0.012500</td>\n",
       "      <td>0.412500</td>\n",
       "      <td>0.787500</td>\n",
       "      <td>2051.440106</td>\n",
       "      <td>80.0</td>\n",
       "    </tr>\n",
       "    <tr>\n",
       "      <th>8758</th>\n",
       "      <td>764.440000</td>\n",
       "      <td>0.020000</td>\n",
       "      <td>0.340000</td>\n",
       "      <td>0.700000</td>\n",
       "      <td>1766.075320</td>\n",
       "      <td>50.0</td>\n",
       "    </tr>\n",
       "    <tr>\n",
       "      <th>8759</th>\n",
       "      <td>1086.068966</td>\n",
       "      <td>0.068966</td>\n",
       "      <td>0.344828</td>\n",
       "      <td>0.724138</td>\n",
       "      <td>2078.455947</td>\n",
       "      <td>29.0</td>\n",
       "    </tr>\n",
       "  </tbody>\n",
       "</table>\n",
       "<p>8760 rows × 6 columns</p>\n",
       "</div>"
      ],
      "text/plain": [
       "        trip_time  round_trip  electric    member    trip_dist  target\n",
       "0      441.750000    0.000000  0.000000  1.000000  1524.837027     4.0\n",
       "1      428.500000    0.000000  0.000000  1.000000  1424.681233     2.0\n",
       "2     1337.500000    0.500000  0.000000  0.500000  1907.174361     2.0\n",
       "3     1027.000000    0.000000  0.000000  1.000000  4271.683931     1.0\n",
       "4      495.666667    0.000000  0.000000  1.000000  1778.573884     3.0\n",
       "...           ...         ...       ...       ...          ...     ...\n",
       "8755   817.084848    0.048485  0.260606  0.800000  1823.531286   165.0\n",
       "8756  1016.803738    0.028037  0.289720  0.738318  1903.862947   107.0\n",
       "8757  1217.700000    0.012500  0.412500  0.787500  2051.440106    80.0\n",
       "8758   764.440000    0.020000  0.340000  0.700000  1766.075320    50.0\n",
       "8759  1086.068966    0.068966  0.344828  0.724138  2078.455947    29.0\n",
       "\n",
       "[8760 rows x 6 columns]"
      ]
     },
     "execution_count": 180,
     "metadata": {},
     "output_type": "execute_result"
    }
   ],
   "source": [
    "dt_eda = station_data('downtown', eda=True)\n",
    "\n",
    "dt_eda"
   ]
  },
  {
   "cell_type": "code",
   "execution_count": 181,
   "id": "33ae19d9",
   "metadata": {},
   "outputs": [],
   "source": [
    "dt_eda_e = station_data('downtown', eda=True, start_end='end')\n",
    "dt_eda_s = station_data('downtown', eda=True, start_end='start')"
   ]
  },
  {
   "cell_type": "code",
   "execution_count": 182,
   "id": "0e712ad2",
   "metadata": {},
   "outputs": [
    {
     "data": {
      "text/html": [
       "<div>\n",
       "<style scoped>\n",
       "    .dataframe tbody tr th:only-of-type {\n",
       "        vertical-align: middle;\n",
       "    }\n",
       "\n",
       "    .dataframe tbody tr th {\n",
       "        vertical-align: top;\n",
       "    }\n",
       "\n",
       "    .dataframe thead th {\n",
       "        text-align: right;\n",
       "    }\n",
       "</style>\n",
       "<table border=\"1\" class=\"dataframe\">\n",
       "  <thead>\n",
       "    <tr style=\"text-align: right;\">\n",
       "      <th></th>\n",
       "      <th>trip_time</th>\n",
       "      <th>round_trip</th>\n",
       "      <th>electric</th>\n",
       "      <th>member</th>\n",
       "      <th>trip_dist</th>\n",
       "      <th>target</th>\n",
       "    </tr>\n",
       "  </thead>\n",
       "  <tbody>\n",
       "    <tr>\n",
       "      <th>0</th>\n",
       "      <td>362.666667</td>\n",
       "      <td>0.000000</td>\n",
       "      <td>0.000000</td>\n",
       "      <td>1.000000</td>\n",
       "      <td>1216.697230</td>\n",
       "      <td>3.0</td>\n",
       "    </tr>\n",
       "    <tr>\n",
       "      <th>1</th>\n",
       "      <td>513.000000</td>\n",
       "      <td>0.000000</td>\n",
       "      <td>0.000000</td>\n",
       "      <td>1.000000</td>\n",
       "      <td>2094.080661</td>\n",
       "      <td>1.0</td>\n",
       "    </tr>\n",
       "    <tr>\n",
       "      <th>2</th>\n",
       "      <td>1337.500000</td>\n",
       "      <td>0.500000</td>\n",
       "      <td>0.000000</td>\n",
       "      <td>0.500000</td>\n",
       "      <td>1907.174361</td>\n",
       "      <td>2.0</td>\n",
       "    </tr>\n",
       "    <tr>\n",
       "      <th>3</th>\n",
       "      <td>1027.000000</td>\n",
       "      <td>0.000000</td>\n",
       "      <td>0.000000</td>\n",
       "      <td>1.000000</td>\n",
       "      <td>4271.683931</td>\n",
       "      <td>1.0</td>\n",
       "    </tr>\n",
       "    <tr>\n",
       "      <th>4</th>\n",
       "      <td>572.000000</td>\n",
       "      <td>0.000000</td>\n",
       "      <td>0.000000</td>\n",
       "      <td>1.000000</td>\n",
       "      <td>2184.351421</td>\n",
       "      <td>2.0</td>\n",
       "    </tr>\n",
       "    <tr>\n",
       "      <th>...</th>\n",
       "      <td>...</td>\n",
       "      <td>...</td>\n",
       "      <td>...</td>\n",
       "      <td>...</td>\n",
       "      <td>...</td>\n",
       "      <td>...</td>\n",
       "    </tr>\n",
       "    <tr>\n",
       "      <th>8755</th>\n",
       "      <td>813.171429</td>\n",
       "      <td>0.057143</td>\n",
       "      <td>0.250000</td>\n",
       "      <td>0.800000</td>\n",
       "      <td>1728.302361</td>\n",
       "      <td>140.0</td>\n",
       "    </tr>\n",
       "    <tr>\n",
       "      <th>8756</th>\n",
       "      <td>1093.385542</td>\n",
       "      <td>0.036145</td>\n",
       "      <td>0.253012</td>\n",
       "      <td>0.722892</td>\n",
       "      <td>1962.004095</td>\n",
       "      <td>83.0</td>\n",
       "    </tr>\n",
       "    <tr>\n",
       "      <th>8757</th>\n",
       "      <td>1460.100000</td>\n",
       "      <td>0.020000</td>\n",
       "      <td>0.380000</td>\n",
       "      <td>0.760000</td>\n",
       "      <td>2085.595707</td>\n",
       "      <td>50.0</td>\n",
       "    </tr>\n",
       "    <tr>\n",
       "      <th>8758</th>\n",
       "      <td>792.842105</td>\n",
       "      <td>0.026316</td>\n",
       "      <td>0.263158</td>\n",
       "      <td>0.710526</td>\n",
       "      <td>1739.357000</td>\n",
       "      <td>38.0</td>\n",
       "    </tr>\n",
       "    <tr>\n",
       "      <th>8759</th>\n",
       "      <td>1124.280000</td>\n",
       "      <td>0.080000</td>\n",
       "      <td>0.360000</td>\n",
       "      <td>0.680000</td>\n",
       "      <td>2116.832623</td>\n",
       "      <td>25.0</td>\n",
       "    </tr>\n",
       "  </tbody>\n",
       "</table>\n",
       "<p>8760 rows × 6 columns</p>\n",
       "</div>"
      ],
      "text/plain": [
       "        trip_time  round_trip  electric    member    trip_dist  target\n",
       "0      362.666667    0.000000  0.000000  1.000000  1216.697230     3.0\n",
       "1      513.000000    0.000000  0.000000  1.000000  2094.080661     1.0\n",
       "2     1337.500000    0.500000  0.000000  0.500000  1907.174361     2.0\n",
       "3     1027.000000    0.000000  0.000000  1.000000  4271.683931     1.0\n",
       "4      572.000000    0.000000  0.000000  1.000000  2184.351421     2.0\n",
       "...           ...         ...       ...       ...          ...     ...\n",
       "8755   813.171429    0.057143  0.250000  0.800000  1728.302361   140.0\n",
       "8756  1093.385542    0.036145  0.253012  0.722892  1962.004095    83.0\n",
       "8757  1460.100000    0.020000  0.380000  0.760000  2085.595707    50.0\n",
       "8758   792.842105    0.026316  0.263158  0.710526  1739.357000    38.0\n",
       "8759  1124.280000    0.080000  0.360000  0.680000  2116.832623    25.0\n",
       "\n",
       "[8760 rows x 6 columns]"
      ]
     },
     "execution_count": 182,
     "metadata": {},
     "output_type": "execute_result"
    }
   ],
   "source": [
    "dt_eda_s"
   ]
  },
  {
   "cell_type": "code",
   "execution_count": 183,
   "id": "aa927c78",
   "metadata": {},
   "outputs": [
    {
     "data": {
      "text/html": [
       "<div>\n",
       "<style scoped>\n",
       "    .dataframe tbody tr th:only-of-type {\n",
       "        vertical-align: middle;\n",
       "    }\n",
       "\n",
       "    .dataframe tbody tr th {\n",
       "        vertical-align: top;\n",
       "    }\n",
       "\n",
       "    .dataframe thead th {\n",
       "        text-align: right;\n",
       "    }\n",
       "</style>\n",
       "<table border=\"1\" class=\"dataframe\">\n",
       "  <thead>\n",
       "    <tr style=\"text-align: right;\">\n",
       "      <th></th>\n",
       "      <th>trip_time</th>\n",
       "      <th>round_trip</th>\n",
       "      <th>electric</th>\n",
       "      <th>member</th>\n",
       "      <th>trip_dist</th>\n",
       "      <th>target</th>\n",
       "    </tr>\n",
       "  </thead>\n",
       "  <tbody>\n",
       "    <tr>\n",
       "      <th>26</th>\n",
       "      <td>0.0</td>\n",
       "      <td>0.0</td>\n",
       "      <td>0.0</td>\n",
       "      <td>0.0</td>\n",
       "      <td>0.0</td>\n",
       "      <td>0.0</td>\n",
       "    </tr>\n",
       "    <tr>\n",
       "      <th>50</th>\n",
       "      <td>0.0</td>\n",
       "      <td>0.0</td>\n",
       "      <td>0.0</td>\n",
       "      <td>0.0</td>\n",
       "      <td>0.0</td>\n",
       "      <td>0.0</td>\n",
       "    </tr>\n",
       "    <tr>\n",
       "      <th>77</th>\n",
       "      <td>0.0</td>\n",
       "      <td>0.0</td>\n",
       "      <td>0.0</td>\n",
       "      <td>0.0</td>\n",
       "      <td>0.0</td>\n",
       "      <td>0.0</td>\n",
       "    </tr>\n",
       "    <tr>\n",
       "      <th>99</th>\n",
       "      <td>0.0</td>\n",
       "      <td>0.0</td>\n",
       "      <td>0.0</td>\n",
       "      <td>0.0</td>\n",
       "      <td>0.0</td>\n",
       "      <td>0.0</td>\n",
       "    </tr>\n",
       "    <tr>\n",
       "      <th>122</th>\n",
       "      <td>0.0</td>\n",
       "      <td>0.0</td>\n",
       "      <td>0.0</td>\n",
       "      <td>0.0</td>\n",
       "      <td>0.0</td>\n",
       "      <td>0.0</td>\n",
       "    </tr>\n",
       "    <tr>\n",
       "      <th>...</th>\n",
       "      <td>...</td>\n",
       "      <td>...</td>\n",
       "      <td>...</td>\n",
       "      <td>...</td>\n",
       "      <td>...</td>\n",
       "      <td>...</td>\n",
       "    </tr>\n",
       "    <tr>\n",
       "      <th>8041</th>\n",
       "      <td>0.0</td>\n",
       "      <td>0.0</td>\n",
       "      <td>0.0</td>\n",
       "      <td>0.0</td>\n",
       "      <td>0.0</td>\n",
       "      <td>0.0</td>\n",
       "    </tr>\n",
       "    <tr>\n",
       "      <th>8042</th>\n",
       "      <td>0.0</td>\n",
       "      <td>0.0</td>\n",
       "      <td>0.0</td>\n",
       "      <td>0.0</td>\n",
       "      <td>0.0</td>\n",
       "      <td>0.0</td>\n",
       "    </tr>\n",
       "    <tr>\n",
       "      <th>8187</th>\n",
       "      <td>0.0</td>\n",
       "      <td>0.0</td>\n",
       "      <td>0.0</td>\n",
       "      <td>0.0</td>\n",
       "      <td>0.0</td>\n",
       "      <td>0.0</td>\n",
       "    </tr>\n",
       "    <tr>\n",
       "      <th>8330</th>\n",
       "      <td>0.0</td>\n",
       "      <td>0.0</td>\n",
       "      <td>0.0</td>\n",
       "      <td>0.0</td>\n",
       "      <td>0.0</td>\n",
       "      <td>0.0</td>\n",
       "    </tr>\n",
       "    <tr>\n",
       "      <th>8618</th>\n",
       "      <td>0.0</td>\n",
       "      <td>0.0</td>\n",
       "      <td>0.0</td>\n",
       "      <td>0.0</td>\n",
       "      <td>0.0</td>\n",
       "      <td>0.0</td>\n",
       "    </tr>\n",
       "  </tbody>\n",
       "</table>\n",
       "<p>262 rows × 6 columns</p>\n",
       "</div>"
      ],
      "text/plain": [
       "      trip_time  round_trip  electric  member  trip_dist  target\n",
       "26          0.0         0.0       0.0     0.0        0.0     0.0\n",
       "50          0.0         0.0       0.0     0.0        0.0     0.0\n",
       "77          0.0         0.0       0.0     0.0        0.0     0.0\n",
       "99          0.0         0.0       0.0     0.0        0.0     0.0\n",
       "122         0.0         0.0       0.0     0.0        0.0     0.0\n",
       "...         ...         ...       ...     ...        ...     ...\n",
       "8041        0.0         0.0       0.0     0.0        0.0     0.0\n",
       "8042        0.0         0.0       0.0     0.0        0.0     0.0\n",
       "8187        0.0         0.0       0.0     0.0        0.0     0.0\n",
       "8330        0.0         0.0       0.0     0.0        0.0     0.0\n",
       "8618        0.0         0.0       0.0     0.0        0.0     0.0\n",
       "\n",
       "[262 rows x 6 columns]"
      ]
     },
     "execution_count": 183,
     "metadata": {},
     "output_type": "execute_result"
    }
   ],
   "source": [
    "# notably there are 262 missing rows, meaning that many hours had no traffic\n",
    "dt_eda[dt_eda['target'] < 1]"
   ]
  },
  {
   "cell_type": "markdown",
   "id": "adf4a45f",
   "metadata": {},
   "source": [
    "## groups\n",
    "loosely based off this map: https://data.cityofchicago.org/Transportation/Divvy-Bicycle-Stations-All-Map/bk89-9dk7"
   ]
  },
  {
   "cell_type": "code",
   "execution_count": 152,
   "id": "115d0c01",
   "metadata": {},
   "outputs": [
    {
     "data": {
      "text/plain": [
       "107"
      ]
     },
     "execution_count": 152,
     "metadata": {},
     "output_type": "execute_result"
    }
   ],
   "source": [
    "# Downtown\n",
    "group_a = set([92,146,47,217,285,31,119,191,286,21,53,125,32,173,96,6,181,\n",
    "           39,77,33,7,196,86,81,638,110,24,627,107,109,277,212,198,\n",
    "           264,45,2,89,84,75,98,211,337,164,37,161,25,672,195,43,636,\n",
    "           36,142,197,350,175,169,26,35,111,66,215,192,635,56,18,74,\n",
    "           122,100,233,76,624,199,631,5,73,174,80,38,186,383,106,194,\n",
    "           40,621,52,48,99,346,51,91,284,68,88,49,134,90,44,54,71,112,\n",
    "           283,623,287,133,50,637,654])\n",
    "\n",
    "len(group_a)"
   ]
  },
  {
   "cell_type": "code",
   "execution_count": 153,
   "id": "f8b50c38",
   "metadata": {},
   "outputs": [
    {
     "data": {
      "text/plain": [
       "54"
      ]
     },
     "execution_count": 153,
     "metadata": {},
     "output_type": "execute_result"
    }
   ],
   "source": [
    "# Lincoln park\n",
    "group_b = set([127,163,327,131,188,349,288,177,223,162,157,319,67,87,143,\n",
    "           154,226,220,302,153,505,141,34,58,115,310,228,300,332,219,\n",
    "           258,144,329,250,94,166,340,307,156,324,296,334,13,504,313,\n",
    "           309,225,673,190,152,117,113,343,664])\n",
    "\n",
    "len(group_b)"
   ]
  },
  {
   "cell_type": "code",
   "execution_count": 154,
   "id": "af01991f",
   "metadata": {},
   "outputs": [
    {
     "data": {
      "text/plain": [
       "48"
      ]
     },
     "execution_count": 154,
     "metadata": {},
     "output_type": "execute_result"
    }
   ],
   "source": [
    "# Wicker park\n",
    "group_c = set([666,92,69,158,224,365,511,506,86,276,183,213,216,510,305,\n",
    "           622,128,58,331,130,659,20,315,61,219,17,509,16,508,350,93,\n",
    "           657,30,374,29,159,160,210,628,60,373,116,333,54,641,637,643,\n",
    "           658])\n",
    "\n",
    "len(group_c)"
   ]
  },
  {
   "cell_type": "code",
   "execution_count": 155,
   "id": "ba6ee687",
   "metadata": {},
   "outputs": [
    {
     "data": {
      "text/plain": [
       "76"
      ]
     },
     "execution_count": 155,
     "metadata": {},
     "output_type": "execute_result"
    }
   ],
   "source": [
    "# Hyde park\n",
    "group_d = set([12,564,567,121,431,561,426,101,418,345,559,11,565,569,398,\n",
    "           568,388,652,328,393,248,560,572,428,562,385,102,95,355,653,\n",
    "           427,392,395,415,247,555,386,400,421,422,556,399,351,423,\n",
    "           420,575,557,424,593,570,391,647,356,396,384,430,352,571,554,\n",
    "           563,390,425,429,270,322,558,417,204,419,649,650,674,646,648,\n",
    "           678,679])\n",
    "\n",
    "len(group_d)"
   ]
  },
  {
   "cell_type": "code",
   "execution_count": 156,
   "id": "76c46ee5",
   "metadata": {},
   "outputs": [
    {
     "data": {
      "text/plain": [
       "44"
      ]
     },
     "execution_count": 156,
     "metadata": {},
     "output_type": "execute_result"
    }
   ],
   "source": [
    "# Uptown\n",
    "group_e = set([245,481,478,234,240,312,292,475,311,463,238,465,471,316,\n",
    "           231,472,326,486,243,297,253,246,314,298,249,306,323,295,\n",
    "           318,239,325,242,251,244,256,476,477,639,254,480,293,464,\n",
    "           482,344])\n",
    "\n",
    "len(group_e)"
   ]
  },
  {
   "cell_type": "code",
   "execution_count": 157,
   "id": "6ac43449",
   "metadata": {},
   "outputs": [
    {
     "data": {
      "text/plain": [
       "30"
      ]
     },
     "execution_count": 157,
     "metadata": {},
     "output_type": "execute_result"
    }
   ],
   "source": [
    "# Chinatown\n",
    "group_f = set([402,62,403,272,132,280,401,120,339,406,207,171,370,148,147,\n",
    "           237,193,4,135,184,206,42,366,209,335,150,208,368,263,149])\n",
    "\n",
    "len(group_f)"
   ]
  },
  {
   "cell_type": "code",
   "execution_count": 142,
   "id": "79b406f1",
   "metadata": {
    "scrolled": false
   },
   "outputs": [
    {
     "data": {
      "text/html": [
       "<div>\n",
       "<style scoped>\n",
       "    .dataframe tbody tr th:only-of-type {\n",
       "        vertical-align: middle;\n",
       "    }\n",
       "\n",
       "    .dataframe tbody tr th {\n",
       "        vertical-align: top;\n",
       "    }\n",
       "\n",
       "    .dataframe thead th {\n",
       "        text-align: right;\n",
       "    }\n",
       "</style>\n",
       "<table border=\"1\" class=\"dataframe\">\n",
       "  <thead>\n",
       "    <tr style=\"text-align: right;\">\n",
       "      <th></th>\n",
       "      <th>ride_id</th>\n",
       "      <th>rideable_type</th>\n",
       "      <th>started_at</th>\n",
       "      <th>ended_at</th>\n",
       "      <th>start_station_name</th>\n",
       "      <th>start_station_id</th>\n",
       "      <th>end_station_name</th>\n",
       "      <th>end_station_id</th>\n",
       "      <th>start_lat</th>\n",
       "      <th>start_lng</th>\n",
       "      <th>end_lat</th>\n",
       "      <th>end_lng</th>\n",
       "      <th>member_casual</th>\n",
       "    </tr>\n",
       "  </thead>\n",
       "  <tbody>\n",
       "    <tr>\n",
       "      <th>0</th>\n",
       "      <td>A847FADBBC638E45</td>\n",
       "      <td>docked_bike</td>\n",
       "      <td>2020-04-26 17:45:14</td>\n",
       "      <td>2020-04-26 18:12:03</td>\n",
       "      <td>Eckhart Park</td>\n",
       "      <td>86</td>\n",
       "      <td>Lincoln Ave &amp; Diversey Pkwy</td>\n",
       "      <td>152.0</td>\n",
       "      <td>41.896400</td>\n",
       "      <td>-87.661000</td>\n",
       "      <td>41.932200</td>\n",
       "      <td>-87.658600</td>\n",
       "      <td>member</td>\n",
       "    </tr>\n",
       "    <tr>\n",
       "      <th>1</th>\n",
       "      <td>5405B80E996FF60D</td>\n",
       "      <td>docked_bike</td>\n",
       "      <td>2020-04-17 17:08:54</td>\n",
       "      <td>2020-04-17 17:17:03</td>\n",
       "      <td>Drake Ave &amp; Fullerton Ave</td>\n",
       "      <td>503</td>\n",
       "      <td>Kosciuszko Park</td>\n",
       "      <td>499.0</td>\n",
       "      <td>41.924400</td>\n",
       "      <td>-87.715400</td>\n",
       "      <td>41.930600</td>\n",
       "      <td>-87.723800</td>\n",
       "      <td>member</td>\n",
       "    </tr>\n",
       "    <tr>\n",
       "      <th>2</th>\n",
       "      <td>5DD24A79A4E006F4</td>\n",
       "      <td>docked_bike</td>\n",
       "      <td>2020-04-01 17:54:13</td>\n",
       "      <td>2020-04-01 18:08:36</td>\n",
       "      <td>McClurg Ct &amp; Erie St</td>\n",
       "      <td>142</td>\n",
       "      <td>Indiana Ave &amp; Roosevelt Rd</td>\n",
       "      <td>255.0</td>\n",
       "      <td>41.894500</td>\n",
       "      <td>-87.617900</td>\n",
       "      <td>41.867900</td>\n",
       "      <td>-87.623000</td>\n",
       "      <td>member</td>\n",
       "    </tr>\n",
       "    <tr>\n",
       "      <th>3</th>\n",
       "      <td>2A59BBDF5CDBA725</td>\n",
       "      <td>docked_bike</td>\n",
       "      <td>2020-04-07 12:50:19</td>\n",
       "      <td>2020-04-07 13:02:31</td>\n",
       "      <td>California Ave &amp; Division St</td>\n",
       "      <td>216</td>\n",
       "      <td>Wood St &amp; Augusta Blvd</td>\n",
       "      <td>657.0</td>\n",
       "      <td>41.903000</td>\n",
       "      <td>-87.697500</td>\n",
       "      <td>41.899200</td>\n",
       "      <td>-87.672200</td>\n",
       "      <td>member</td>\n",
       "    </tr>\n",
       "    <tr>\n",
       "      <th>4</th>\n",
       "      <td>27AD306C119C6158</td>\n",
       "      <td>docked_bike</td>\n",
       "      <td>2020-04-18 10:22:59</td>\n",
       "      <td>2020-04-18 11:15:54</td>\n",
       "      <td>Rush St &amp; Hubbard St</td>\n",
       "      <td>125</td>\n",
       "      <td>Sheridan Rd &amp; Lawrence Ave</td>\n",
       "      <td>323.0</td>\n",
       "      <td>41.890200</td>\n",
       "      <td>-87.626200</td>\n",
       "      <td>41.969500</td>\n",
       "      <td>-87.654700</td>\n",
       "      <td>casual</td>\n",
       "    </tr>\n",
       "    <tr>\n",
       "      <th>...</th>\n",
       "      <td>...</td>\n",
       "      <td>...</td>\n",
       "      <td>...</td>\n",
       "      <td>...</td>\n",
       "      <td>...</td>\n",
       "      <td>...</td>\n",
       "      <td>...</td>\n",
       "      <td>...</td>\n",
       "      <td>...</td>\n",
       "      <td>...</td>\n",
       "      <td>...</td>\n",
       "      <td>...</td>\n",
       "      <td>...</td>\n",
       "    </tr>\n",
       "    <tr>\n",
       "      <th>3489743</th>\n",
       "      <td>9397BDD14798A1BA</td>\n",
       "      <td>docked_bike</td>\n",
       "      <td>2021-03-20 14:58:56</td>\n",
       "      <td>2021-03-20 17:22:47</td>\n",
       "      <td>Michigan Ave &amp; Oak St</td>\n",
       "      <td>13042</td>\n",
       "      <td>New St &amp; Illinois St</td>\n",
       "      <td>TA1306000013</td>\n",
       "      <td>41.900960</td>\n",
       "      <td>-87.623777</td>\n",
       "      <td>41.890847</td>\n",
       "      <td>-87.618617</td>\n",
       "      <td>casual</td>\n",
       "    </tr>\n",
       "    <tr>\n",
       "      <th>3489744</th>\n",
       "      <td>BBBEB8D51AAD40DA</td>\n",
       "      <td>classic_bike</td>\n",
       "      <td>2021-03-02 11:35:10</td>\n",
       "      <td>2021-03-02 11:43:37</td>\n",
       "      <td>Kingsbury St &amp; Kinzie St</td>\n",
       "      <td>KA1503000043</td>\n",
       "      <td>New St &amp; Illinois St</td>\n",
       "      <td>TA1306000013</td>\n",
       "      <td>41.889177</td>\n",
       "      <td>-87.638506</td>\n",
       "      <td>41.890847</td>\n",
       "      <td>-87.618617</td>\n",
       "      <td>member</td>\n",
       "    </tr>\n",
       "    <tr>\n",
       "      <th>3489745</th>\n",
       "      <td>637FF754DA0BD9E1</td>\n",
       "      <td>classic_bike</td>\n",
       "      <td>2021-03-09 11:07:36</td>\n",
       "      <td>2021-03-09 11:49:11</td>\n",
       "      <td>Michigan Ave &amp; Oak St</td>\n",
       "      <td>13042</td>\n",
       "      <td>Clark St &amp; Berwyn Ave</td>\n",
       "      <td>KA1504000146</td>\n",
       "      <td>41.900960</td>\n",
       "      <td>-87.623777</td>\n",
       "      <td>41.977997</td>\n",
       "      <td>-87.668047</td>\n",
       "      <td>member</td>\n",
       "    </tr>\n",
       "    <tr>\n",
       "      <th>3489746</th>\n",
       "      <td>F8F43A0B978A7A35</td>\n",
       "      <td>classic_bike</td>\n",
       "      <td>2021-03-01 18:11:57</td>\n",
       "      <td>2021-03-01 18:18:37</td>\n",
       "      <td>Kingsbury St &amp; Kinzie St</td>\n",
       "      <td>KA1503000043</td>\n",
       "      <td>New St &amp; Illinois St</td>\n",
       "      <td>TA1306000013</td>\n",
       "      <td>41.889177</td>\n",
       "      <td>-87.638506</td>\n",
       "      <td>41.890847</td>\n",
       "      <td>-87.618617</td>\n",
       "      <td>member</td>\n",
       "    </tr>\n",
       "    <tr>\n",
       "      <th>3489747</th>\n",
       "      <td>3AE64EA5BF43CF72</td>\n",
       "      <td>electric_bike</td>\n",
       "      <td>2021-03-26 17:58:14</td>\n",
       "      <td>2021-03-26 18:06:43</td>\n",
       "      <td>NaN</td>\n",
       "      <td>NaN</td>\n",
       "      <td>New St &amp; Illinois St</td>\n",
       "      <td>TA1306000013</td>\n",
       "      <td>41.880000</td>\n",
       "      <td>-87.630000</td>\n",
       "      <td>41.890818</td>\n",
       "      <td>-87.619540</td>\n",
       "      <td>member</td>\n",
       "    </tr>\n",
       "  </tbody>\n",
       "</table>\n",
       "<p>3489748 rows × 13 columns</p>\n",
       "</div>"
      ],
      "text/plain": [
       "                  ride_id  rideable_type           started_at  \\\n",
       "0        A847FADBBC638E45    docked_bike  2020-04-26 17:45:14   \n",
       "1        5405B80E996FF60D    docked_bike  2020-04-17 17:08:54   \n",
       "2        5DD24A79A4E006F4    docked_bike  2020-04-01 17:54:13   \n",
       "3        2A59BBDF5CDBA725    docked_bike  2020-04-07 12:50:19   \n",
       "4        27AD306C119C6158    docked_bike  2020-04-18 10:22:59   \n",
       "...                   ...            ...                  ...   \n",
       "3489743  9397BDD14798A1BA    docked_bike  2021-03-20 14:58:56   \n",
       "3489744  BBBEB8D51AAD40DA   classic_bike  2021-03-02 11:35:10   \n",
       "3489745  637FF754DA0BD9E1   classic_bike  2021-03-09 11:07:36   \n",
       "3489746  F8F43A0B978A7A35   classic_bike  2021-03-01 18:11:57   \n",
       "3489747  3AE64EA5BF43CF72  electric_bike  2021-03-26 17:58:14   \n",
       "\n",
       "                    ended_at            start_station_name start_station_id  \\\n",
       "0        2020-04-26 18:12:03                  Eckhart Park               86   \n",
       "1        2020-04-17 17:17:03     Drake Ave & Fullerton Ave              503   \n",
       "2        2020-04-01 18:08:36          McClurg Ct & Erie St              142   \n",
       "3        2020-04-07 13:02:31  California Ave & Division St              216   \n",
       "4        2020-04-18 11:15:54          Rush St & Hubbard St              125   \n",
       "...                      ...                           ...              ...   \n",
       "3489743  2021-03-20 17:22:47         Michigan Ave & Oak St            13042   \n",
       "3489744  2021-03-02 11:43:37      Kingsbury St & Kinzie St     KA1503000043   \n",
       "3489745  2021-03-09 11:49:11         Michigan Ave & Oak St            13042   \n",
       "3489746  2021-03-01 18:18:37      Kingsbury St & Kinzie St     KA1503000043   \n",
       "3489747  2021-03-26 18:06:43                           NaN              NaN   \n",
       "\n",
       "                    end_station_name end_station_id  start_lat  start_lng  \\\n",
       "0        Lincoln Ave & Diversey Pkwy          152.0  41.896400 -87.661000   \n",
       "1                    Kosciuszko Park          499.0  41.924400 -87.715400   \n",
       "2         Indiana Ave & Roosevelt Rd          255.0  41.894500 -87.617900   \n",
       "3             Wood St & Augusta Blvd          657.0  41.903000 -87.697500   \n",
       "4         Sheridan Rd & Lawrence Ave          323.0  41.890200 -87.626200   \n",
       "...                              ...            ...        ...        ...   \n",
       "3489743         New St & Illinois St   TA1306000013  41.900960 -87.623777   \n",
       "3489744         New St & Illinois St   TA1306000013  41.889177 -87.638506   \n",
       "3489745        Clark St & Berwyn Ave   KA1504000146  41.900960 -87.623777   \n",
       "3489746         New St & Illinois St   TA1306000013  41.889177 -87.638506   \n",
       "3489747         New St & Illinois St   TA1306000013  41.880000 -87.630000   \n",
       "\n",
       "           end_lat    end_lng member_casual  \n",
       "0        41.932200 -87.658600        member  \n",
       "1        41.930600 -87.723800        member  \n",
       "2        41.867900 -87.623000        member  \n",
       "3        41.899200 -87.672200        member  \n",
       "4        41.969500 -87.654700        casual  \n",
       "...            ...        ...           ...  \n",
       "3489743  41.890847 -87.618617        casual  \n",
       "3489744  41.890847 -87.618617        member  \n",
       "3489745  41.977997 -87.668047        member  \n",
       "3489746  41.890847 -87.618617        member  \n",
       "3489747  41.890818 -87.619540        member  \n",
       "\n",
       "[3489748 rows x 13 columns]"
      ]
     },
     "execution_count": 142,
     "metadata": {},
     "output_type": "execute_result"
    }
   ],
   "source": [
    "# raw data for whatever you might need it for\n",
    "filelist = []\n",
    "frames = []\n",
    "\n",
    "for month in [4,5,6,7,8,9,10,11,12]:\n",
    "    filelist.append('data/2020{:02d}-divvy-tripdata.csv'.format(month))\n",
    "for month in [1,2,3]:\n",
    "    filelist.append('data/2021{:02d}-divvy-tripdata.csv'.format(month))\n",
    "\n",
    "for month in filelist:\n",
    "    lil_df = pd.read_csv(month)\n",
    "\n",
    "    frames.append(lil_df)\n",
    "\n",
    "dfraw = pd.concat(frames, ignore_index=True)\n",
    "\n",
    "dfraw"
   ]
  },
  {
   "cell_type": "code",
   "execution_count": 167,
   "id": "4716ae02",
   "metadata": {
    "scrolled": true
   },
   "outputs": [
    {
     "data": {
      "text/html": [
       "<div>\n",
       "<style scoped>\n",
       "    .dataframe tbody tr th:only-of-type {\n",
       "        vertical-align: middle;\n",
       "    }\n",
       "\n",
       "    .dataframe tbody tr th {\n",
       "        vertical-align: top;\n",
       "    }\n",
       "\n",
       "    .dataframe thead th {\n",
       "        text-align: right;\n",
       "    }\n",
       "</style>\n",
       "<table border=\"1\" class=\"dataframe\">\n",
       "  <thead>\n",
       "    <tr style=\"text-align: right;\">\n",
       "      <th></th>\n",
       "      <th>name</th>\n",
       "      <th>group</th>\n",
       "    </tr>\n",
       "  </thead>\n",
       "  <tbody>\n",
       "    <tr>\n",
       "      <th>0</th>\n",
       "      <td>Wentworth Ave &amp; 24th St (Temp)</td>\n",
       "      <td>f</td>\n",
       "    </tr>\n",
       "    <tr>\n",
       "      <th>1</th>\n",
       "      <td>Burnham Harbor</td>\n",
       "      <td>f</td>\n",
       "    </tr>\n",
       "    <tr>\n",
       "      <th>2</th>\n",
       "      <td>Halsted St &amp; 21st St</td>\n",
       "      <td>f</td>\n",
       "    </tr>\n",
       "    <tr>\n",
       "      <th>3</th>\n",
       "      <td>Rhodes Ave &amp; 32nd St</td>\n",
       "      <td>f</td>\n",
       "    </tr>\n",
       "    <tr>\n",
       "      <th>4</th>\n",
       "      <td>Indiana Ave &amp; 31st St</td>\n",
       "      <td>f</td>\n",
       "    </tr>\n",
       "    <tr>\n",
       "      <th>5</th>\n",
       "      <td>Shields Ave &amp; 28th Pl</td>\n",
       "      <td>f</td>\n",
       "    </tr>\n",
       "    <tr>\n",
       "      <th>6</th>\n",
       "      <td>Shields Ave &amp; 31st St</td>\n",
       "      <td>f</td>\n",
       "    </tr>\n",
       "    <tr>\n",
       "      <th>7</th>\n",
       "      <td>Wentworth Ave &amp; 33rd St</td>\n",
       "      <td>f</td>\n",
       "    </tr>\n",
       "    <tr>\n",
       "      <th>8</th>\n",
       "      <td>State St &amp; 33rd St</td>\n",
       "      <td>f</td>\n",
       "    </tr>\n",
       "    <tr>\n",
       "      <th>9</th>\n",
       "      <td>Indiana Ave &amp; 26th St</td>\n",
       "      <td>f</td>\n",
       "    </tr>\n",
       "    <tr>\n",
       "      <th>10</th>\n",
       "      <td>Lake Park Ave &amp; 35th St</td>\n",
       "      <td>f</td>\n",
       "    </tr>\n",
       "    <tr>\n",
       "      <th>11</th>\n",
       "      <td>Fort Dearborn Dr &amp; 31st St</td>\n",
       "      <td>f</td>\n",
       "    </tr>\n",
       "    <tr>\n",
       "      <th>12</th>\n",
       "      <td>Morgan St &amp; 31st St</td>\n",
       "      <td>f</td>\n",
       "    </tr>\n",
       "    <tr>\n",
       "      <th>13</th>\n",
       "      <td>Calumet Ave &amp; 33rd St</td>\n",
       "      <td>f</td>\n",
       "    </tr>\n",
       "    <tr>\n",
       "      <th>14</th>\n",
       "      <td>Wabash Ave &amp; Cermak Rd</td>\n",
       "      <td>f</td>\n",
       "    </tr>\n",
       "    <tr>\n",
       "      <th>15</th>\n",
       "      <td>May St &amp; Cullerton St</td>\n",
       "      <td>f</td>\n",
       "    </tr>\n",
       "    <tr>\n",
       "      <th>16</th>\n",
       "      <td>State St &amp; 35th St</td>\n",
       "      <td>f</td>\n",
       "    </tr>\n",
       "    <tr>\n",
       "      <th>17</th>\n",
       "      <td>McCormick Place</td>\n",
       "      <td>f</td>\n",
       "    </tr>\n",
       "    <tr>\n",
       "      <th>18</th>\n",
       "      <td>State St &amp; 29th St</td>\n",
       "      <td>f</td>\n",
       "    </tr>\n",
       "    <tr>\n",
       "      <th>19</th>\n",
       "      <td>Halsted St &amp; Archer Ave</td>\n",
       "      <td>f</td>\n",
       "    </tr>\n",
       "    <tr>\n",
       "      <th>20</th>\n",
       "      <td>Emerald Ave &amp; 28th St</td>\n",
       "      <td>f</td>\n",
       "    </tr>\n",
       "    <tr>\n",
       "      <th>21</th>\n",
       "      <td>Calumet Ave &amp; 35th St</td>\n",
       "      <td>f</td>\n",
       "    </tr>\n",
       "    <tr>\n",
       "      <th>22</th>\n",
       "      <td>Normal Ave &amp; Archer Ave</td>\n",
       "      <td>f</td>\n",
       "    </tr>\n",
       "    <tr>\n",
       "      <th>23</th>\n",
       "      <td>Laflin St &amp; Cullerton St</td>\n",
       "      <td>f</td>\n",
       "    </tr>\n",
       "    <tr>\n",
       "      <th>24</th>\n",
       "      <td>Emerald Ave &amp; 31st St</td>\n",
       "      <td>f</td>\n",
       "    </tr>\n",
       "    <tr>\n",
       "      <th>25</th>\n",
       "      <td>MLK Jr Dr &amp; 29th St</td>\n",
       "      <td>f</td>\n",
       "    </tr>\n",
       "    <tr>\n",
       "      <th>26</th>\n",
       "      <td>Loomis St &amp; Archer Ave</td>\n",
       "      <td>f</td>\n",
       "    </tr>\n",
       "    <tr>\n",
       "      <th>27</th>\n",
       "      <td>Ashland Ave &amp; Archer Ave</td>\n",
       "      <td>f</td>\n",
       "    </tr>\n",
       "    <tr>\n",
       "      <th>28</th>\n",
       "      <td>Calumet Ave &amp; 21st St</td>\n",
       "      <td>f</td>\n",
       "    </tr>\n",
       "    <tr>\n",
       "      <th>29</th>\n",
       "      <td>Wentworth Ave &amp; Cermak Rd (Temp)</td>\n",
       "      <td>f</td>\n",
       "    </tr>\n",
       "  </tbody>\n",
       "</table>\n",
       "</div>"
      ],
      "text/plain": [
       "                                name group\n",
       "0     Wentworth Ave & 24th St (Temp)     f\n",
       "1                     Burnham Harbor     f\n",
       "2               Halsted St & 21st St     f\n",
       "3               Rhodes Ave & 32nd St     f\n",
       "4              Indiana Ave & 31st St     f\n",
       "5              Shields Ave & 28th Pl     f\n",
       "6              Shields Ave & 31st St     f\n",
       "7            Wentworth Ave & 33rd St     f\n",
       "8                 State St & 33rd St     f\n",
       "9              Indiana Ave & 26th St     f\n",
       "10           Lake Park Ave & 35th St     f\n",
       "11        Fort Dearborn Dr & 31st St     f\n",
       "12               Morgan St & 31st St     f\n",
       "13             Calumet Ave & 33rd St     f\n",
       "14            Wabash Ave & Cermak Rd     f\n",
       "15             May St & Cullerton St     f\n",
       "16                State St & 35th St     f\n",
       "17                   McCormick Place     f\n",
       "18                State St & 29th St     f\n",
       "19           Halsted St & Archer Ave     f\n",
       "20             Emerald Ave & 28th St     f\n",
       "21             Calumet Ave & 35th St     f\n",
       "22           Normal Ave & Archer Ave     f\n",
       "23          Laflin St & Cullerton St     f\n",
       "24             Emerald Ave & 31st St     f\n",
       "25               MLK Jr Dr & 29th St     f\n",
       "26            Loomis St & Archer Ave     f\n",
       "27          Ashland Ave & Archer Ave     f\n",
       "28             Calumet Ave & 21st St     f\n",
       "29  Wentworth Ave & Cermak Rd (Temp)     f"
      ]
     },
     "execution_count": 167,
     "metadata": {},
     "output_type": "execute_result"
    }
   ],
   "source": [
    "group_f2 = []\n",
    "\n",
    "for stationid in group_f:\n",
    "\n",
    "    name = dfraw[dfraw['end_station_id'] == stationid]\n",
    "    \n",
    "    if len(name) == 0:\n",
    "        print('no ', stationid)\n",
    "    else:\n",
    "        group_f2.append(name.iloc[0]['end_station_name'])\n",
    "\n",
    "    df_f = pd.DataFrame(group_f2, columns=['name'])\n",
    "\n",
    "    df_f['group'] = 'f'\n",
    "\n",
    "df_f"
   ]
  },
  {
   "cell_type": "code",
   "execution_count": 168,
   "id": "74405f49",
   "metadata": {},
   "outputs": [],
   "source": [
    "groups = pd.concat([df_a, df_b, df_c, df_d, df_e, df_f])"
   ]
  },
  {
   "cell_type": "markdown",
   "id": "195c6b12",
   "metadata": {},
   "source": [
    "## post-processing eda"
   ]
  },
  {
   "cell_type": "code",
   "execution_count": 8,
   "id": "03fe97df",
   "metadata": {},
   "outputs": [],
   "source": [
    "def serialize(inputdf, scale=True):\n",
    "    '''Takes eda ready data and preprocesses it for machine learning'''\n",
    "    \n",
    "    out = inputdf.groupby(['date', 'hour']).agg('mean')\n",
    "    \n",
    "    out['size'] = inputdf.groupby(['date', 'hour']).size()\n",
    "    \n",
    "    dti = pd.Series(pd.date_range(\"2020-04-01\", freq=\"D\", periods=365)).dt.date\n",
    "\n",
    "    idx = pd.MultiIndex.from_product([dti, np.arange(24)], names=['date', 'hour'])\n",
    "\n",
    "    # change feature names / amount\n",
    "    df_blank = pd.DataFrame(data = np.zeros(shape=(365*24, 6)), index=idx,\n",
    "                            columns=['trip_time', 'round_trip', 'electric', 'member',\n",
    "                                     'trip_dist', 'size'])\n",
    "\n",
    "    out = pd.concat([df_blank, out]).groupby(['date', 'hour']).agg('sum')\n",
    "    \n",
    "    out = out.reset_index(drop=True)\n",
    "    \n",
    "    return out"
   ]
  },
  {
   "cell_type": "code",
   "execution_count": 9,
   "id": "2ff07d8f",
   "metadata": {},
   "outputs": [],
   "source": [
    "def windowize_data(data, n_prev, univariate=True):\n",
    "    '''univariate'''\n",
    "    n_predictions = len(data) - n_prev\n",
    "    indices = np.arange(n_prev) + np.arange(n_predictions)[:, None]\n",
    "    \n",
    "    if univariate == False:\n",
    "        y = data[n_prev:, -1]\n",
    "        x = data[indices]\n",
    "    else:\n",
    "        y = data[n_prev:]\n",
    "        x = data[indices, None]\n",
    "    return x, y"
   ]
  },
  {
   "cell_type": "code",
   "execution_count": 10,
   "id": "26373720",
   "metadata": {},
   "outputs": [],
   "source": [
    "def split_and_windowize(data, n_prev, fraction_test=0.1, univariate=True):\n",
    "    '''Train/test splits data with added timestep dimension'''\n",
    "    n_predictions = len(data) - 2*n_prev\n",
    "    \n",
    "    n_test  = int(fraction_test * n_predictions)\n",
    "    n_train = n_predictions - n_test   \n",
    "    \n",
    "    x_train, y_train = windowize_data(data[:n_train], n_prev, univariate=univariate)\n",
    "    x_test, y_test = windowize_data(data[n_train:], n_prev, univariate=univariate)\n",
    "    return x_train, x_test, y_train, y_test"
   ]
  },
  {
   "cell_type": "code",
   "execution_count": null,
   "id": "3685521a",
   "metadata": {},
   "outputs": [],
   "source": [
    "downtown_start = station_data('downtown', eda=False, start_end='start')"
   ]
  },
  {
   "cell_type": "code",
   "execution_count": 240,
   "id": "d40ac29c",
   "metadata": {},
   "outputs": [
    {
     "name": "stdout",
     "output_type": "stream",
     "text": [
      "original data shape (8760, 1)\n"
     ]
    },
    {
     "data": {
      "text/plain": [
       "((8400, 120, 1), (120, 120, 1), (8400,), (120,))"
      ]
     },
     "execution_count": 240,
     "metadata": {},
     "output_type": "execute_result"
    }
   ],
   "source": [
    "X_train, X_test, y_train, y_test = split_and_windowize(np.array(dt_s), 120, 0.0001, univariate=False)\n",
    "\n",
    "print('original data shape', dt_s.shape)\n",
    "\n",
    "X_train.shape, X_test.shape, y_train.shape, y_test.shape"
   ]
  },
  {
   "cell_type": "code",
   "execution_count": 241,
   "id": "daf64182",
   "metadata": {},
   "outputs": [],
   "source": [
    "modeld = tf.keras.Sequential()\n",
    "modeld.add(tf.keras.layers.GRU(100, return_sequences=False))\n",
    "modeld.add(tf.keras.layers.Dropout(0.3))\n",
    "modeld.add(tf.keras.layers.Dense(1, activation='relu'))\n",
    "modeld.compile(optimizer='rmsprop', loss='mse')"
   ]
  },
  {
   "cell_type": "code",
   "execution_count": 242,
   "id": "424c1584",
   "metadata": {
    "scrolled": true
   },
   "outputs": [
    {
     "name": "stdout",
     "output_type": "stream",
     "text": [
      "Epoch 1/50\n",
      " 54/525 [==>...........................] - ETA: 18s - loss: 39292.6680"
     ]
    },
    {
     "ename": "KeyboardInterrupt",
     "evalue": "",
     "output_type": "error",
     "traceback": [
      "\u001b[0;31m---------------------------------------------------------------------------\u001b[0m",
      "\u001b[0;31mKeyboardInterrupt\u001b[0m                         Traceback (most recent call last)",
      "\u001b[0;32m<ipython-input-242-b0934e333997>\u001b[0m in \u001b[0;36m<module>\u001b[0;34m\u001b[0m\n\u001b[0;32m----> 1\u001b[0;31m \u001b[0mmodeld\u001b[0m\u001b[0;34m.\u001b[0m\u001b[0mfit\u001b[0m\u001b[0;34m(\u001b[0m\u001b[0mX_train\u001b[0m\u001b[0;34m,\u001b[0m \u001b[0my_train\u001b[0m\u001b[0;34m,\u001b[0m \u001b[0mbatch_size\u001b[0m\u001b[0;34m=\u001b[0m\u001b[0;36m16\u001b[0m\u001b[0;34m,\u001b[0m \u001b[0mepochs\u001b[0m\u001b[0;34m=\u001b[0m\u001b[0;36m50\u001b[0m\u001b[0;34m)\u001b[0m\u001b[0;34m\u001b[0m\u001b[0;34m\u001b[0m\u001b[0m\n\u001b[0m",
      "\u001b[0;32m~/anaconda3/lib/python3.8/site-packages/tensorflow/python/keras/engine/training.py\u001b[0m in \u001b[0;36m_method_wrapper\u001b[0;34m(self, *args, **kwargs)\u001b[0m\n\u001b[1;32m    106\u001b[0m   \u001b[0;32mdef\u001b[0m \u001b[0m_method_wrapper\u001b[0m\u001b[0;34m(\u001b[0m\u001b[0mself\u001b[0m\u001b[0;34m,\u001b[0m \u001b[0;34m*\u001b[0m\u001b[0margs\u001b[0m\u001b[0;34m,\u001b[0m \u001b[0;34m**\u001b[0m\u001b[0mkwargs\u001b[0m\u001b[0;34m)\u001b[0m\u001b[0;34m:\u001b[0m\u001b[0;34m\u001b[0m\u001b[0;34m\u001b[0m\u001b[0m\n\u001b[1;32m    107\u001b[0m     \u001b[0;32mif\u001b[0m \u001b[0;32mnot\u001b[0m \u001b[0mself\u001b[0m\u001b[0;34m.\u001b[0m\u001b[0m_in_multi_worker_mode\u001b[0m\u001b[0;34m(\u001b[0m\u001b[0;34m)\u001b[0m\u001b[0;34m:\u001b[0m  \u001b[0;31m# pylint: disable=protected-access\u001b[0m\u001b[0;34m\u001b[0m\u001b[0;34m\u001b[0m\u001b[0m\n\u001b[0;32m--> 108\u001b[0;31m       \u001b[0;32mreturn\u001b[0m \u001b[0mmethod\u001b[0m\u001b[0;34m(\u001b[0m\u001b[0mself\u001b[0m\u001b[0;34m,\u001b[0m \u001b[0;34m*\u001b[0m\u001b[0margs\u001b[0m\u001b[0;34m,\u001b[0m \u001b[0;34m**\u001b[0m\u001b[0mkwargs\u001b[0m\u001b[0;34m)\u001b[0m\u001b[0;34m\u001b[0m\u001b[0;34m\u001b[0m\u001b[0m\n\u001b[0m\u001b[1;32m    109\u001b[0m \u001b[0;34m\u001b[0m\u001b[0m\n\u001b[1;32m    110\u001b[0m     \u001b[0;31m# Running inside `run_distribute_coordinator` already.\u001b[0m\u001b[0;34m\u001b[0m\u001b[0;34m\u001b[0m\u001b[0;34m\u001b[0m\u001b[0m\n",
      "\u001b[0;32m~/anaconda3/lib/python3.8/site-packages/tensorflow/python/keras/engine/training.py\u001b[0m in \u001b[0;36mfit\u001b[0;34m(self, x, y, batch_size, epochs, verbose, callbacks, validation_split, validation_data, shuffle, class_weight, sample_weight, initial_epoch, steps_per_epoch, validation_steps, validation_batch_size, validation_freq, max_queue_size, workers, use_multiprocessing)\u001b[0m\n\u001b[1;32m   1096\u001b[0m                 batch_size=batch_size):\n\u001b[1;32m   1097\u001b[0m               \u001b[0mcallbacks\u001b[0m\u001b[0;34m.\u001b[0m\u001b[0mon_train_batch_begin\u001b[0m\u001b[0;34m(\u001b[0m\u001b[0mstep\u001b[0m\u001b[0;34m)\u001b[0m\u001b[0;34m\u001b[0m\u001b[0;34m\u001b[0m\u001b[0m\n\u001b[0;32m-> 1098\u001b[0;31m               \u001b[0mtmp_logs\u001b[0m \u001b[0;34m=\u001b[0m \u001b[0mtrain_function\u001b[0m\u001b[0;34m(\u001b[0m\u001b[0miterator\u001b[0m\u001b[0;34m)\u001b[0m\u001b[0;34m\u001b[0m\u001b[0;34m\u001b[0m\u001b[0m\n\u001b[0m\u001b[1;32m   1099\u001b[0m               \u001b[0;32mif\u001b[0m \u001b[0mdata_handler\u001b[0m\u001b[0;34m.\u001b[0m\u001b[0mshould_sync\u001b[0m\u001b[0;34m:\u001b[0m\u001b[0;34m\u001b[0m\u001b[0;34m\u001b[0m\u001b[0m\n\u001b[1;32m   1100\u001b[0m                 \u001b[0mcontext\u001b[0m\u001b[0;34m.\u001b[0m\u001b[0masync_wait\u001b[0m\u001b[0;34m(\u001b[0m\u001b[0;34m)\u001b[0m\u001b[0;34m\u001b[0m\u001b[0;34m\u001b[0m\u001b[0m\n",
      "\u001b[0;32m~/anaconda3/lib/python3.8/site-packages/tensorflow/python/eager/def_function.py\u001b[0m in \u001b[0;36m__call__\u001b[0;34m(self, *args, **kwds)\u001b[0m\n\u001b[1;32m    778\u001b[0m       \u001b[0;32melse\u001b[0m\u001b[0;34m:\u001b[0m\u001b[0;34m\u001b[0m\u001b[0;34m\u001b[0m\u001b[0m\n\u001b[1;32m    779\u001b[0m         \u001b[0mcompiler\u001b[0m \u001b[0;34m=\u001b[0m \u001b[0;34m\"nonXla\"\u001b[0m\u001b[0;34m\u001b[0m\u001b[0;34m\u001b[0m\u001b[0m\n\u001b[0;32m--> 780\u001b[0;31m         \u001b[0mresult\u001b[0m \u001b[0;34m=\u001b[0m \u001b[0mself\u001b[0m\u001b[0;34m.\u001b[0m\u001b[0m_call\u001b[0m\u001b[0;34m(\u001b[0m\u001b[0;34m*\u001b[0m\u001b[0margs\u001b[0m\u001b[0;34m,\u001b[0m \u001b[0;34m**\u001b[0m\u001b[0mkwds\u001b[0m\u001b[0;34m)\u001b[0m\u001b[0;34m\u001b[0m\u001b[0;34m\u001b[0m\u001b[0m\n\u001b[0m\u001b[1;32m    781\u001b[0m \u001b[0;34m\u001b[0m\u001b[0m\n\u001b[1;32m    782\u001b[0m       \u001b[0mnew_tracing_count\u001b[0m \u001b[0;34m=\u001b[0m \u001b[0mself\u001b[0m\u001b[0;34m.\u001b[0m\u001b[0m_get_tracing_count\u001b[0m\u001b[0;34m(\u001b[0m\u001b[0;34m)\u001b[0m\u001b[0;34m\u001b[0m\u001b[0;34m\u001b[0m\u001b[0m\n",
      "\u001b[0;32m~/anaconda3/lib/python3.8/site-packages/tensorflow/python/eager/def_function.py\u001b[0m in \u001b[0;36m_call\u001b[0;34m(self, *args, **kwds)\u001b[0m\n\u001b[1;32m    805\u001b[0m       \u001b[0;31m# In this case we have created variables on the first call, so we run the\u001b[0m\u001b[0;34m\u001b[0m\u001b[0;34m\u001b[0m\u001b[0;34m\u001b[0m\u001b[0m\n\u001b[1;32m    806\u001b[0m       \u001b[0;31m# defunned version which is guaranteed to never create variables.\u001b[0m\u001b[0;34m\u001b[0m\u001b[0;34m\u001b[0m\u001b[0;34m\u001b[0m\u001b[0m\n\u001b[0;32m--> 807\u001b[0;31m       \u001b[0;32mreturn\u001b[0m \u001b[0mself\u001b[0m\u001b[0;34m.\u001b[0m\u001b[0m_stateless_fn\u001b[0m\u001b[0;34m(\u001b[0m\u001b[0;34m*\u001b[0m\u001b[0margs\u001b[0m\u001b[0;34m,\u001b[0m \u001b[0;34m**\u001b[0m\u001b[0mkwds\u001b[0m\u001b[0;34m)\u001b[0m  \u001b[0;31m# pylint: disable=not-callable\u001b[0m\u001b[0;34m\u001b[0m\u001b[0;34m\u001b[0m\u001b[0m\n\u001b[0m\u001b[1;32m    808\u001b[0m     \u001b[0;32melif\u001b[0m \u001b[0mself\u001b[0m\u001b[0;34m.\u001b[0m\u001b[0m_stateful_fn\u001b[0m \u001b[0;32mis\u001b[0m \u001b[0;32mnot\u001b[0m \u001b[0;32mNone\u001b[0m\u001b[0;34m:\u001b[0m\u001b[0;34m\u001b[0m\u001b[0;34m\u001b[0m\u001b[0m\n\u001b[1;32m    809\u001b[0m       \u001b[0;31m# Release the lock early so that multiple threads can perform the call\u001b[0m\u001b[0;34m\u001b[0m\u001b[0;34m\u001b[0m\u001b[0;34m\u001b[0m\u001b[0m\n",
      "\u001b[0;32m~/anaconda3/lib/python3.8/site-packages/tensorflow/python/eager/function.py\u001b[0m in \u001b[0;36m__call__\u001b[0;34m(self, *args, **kwargs)\u001b[0m\n\u001b[1;32m   2827\u001b[0m     \u001b[0;32mwith\u001b[0m \u001b[0mself\u001b[0m\u001b[0;34m.\u001b[0m\u001b[0m_lock\u001b[0m\u001b[0;34m:\u001b[0m\u001b[0;34m\u001b[0m\u001b[0;34m\u001b[0m\u001b[0m\n\u001b[1;32m   2828\u001b[0m       \u001b[0mgraph_function\u001b[0m\u001b[0;34m,\u001b[0m \u001b[0margs\u001b[0m\u001b[0;34m,\u001b[0m \u001b[0mkwargs\u001b[0m \u001b[0;34m=\u001b[0m \u001b[0mself\u001b[0m\u001b[0;34m.\u001b[0m\u001b[0m_maybe_define_function\u001b[0m\u001b[0;34m(\u001b[0m\u001b[0margs\u001b[0m\u001b[0;34m,\u001b[0m \u001b[0mkwargs\u001b[0m\u001b[0;34m)\u001b[0m\u001b[0;34m\u001b[0m\u001b[0;34m\u001b[0m\u001b[0m\n\u001b[0;32m-> 2829\u001b[0;31m     \u001b[0;32mreturn\u001b[0m \u001b[0mgraph_function\u001b[0m\u001b[0;34m.\u001b[0m\u001b[0m_filtered_call\u001b[0m\u001b[0;34m(\u001b[0m\u001b[0margs\u001b[0m\u001b[0;34m,\u001b[0m \u001b[0mkwargs\u001b[0m\u001b[0;34m)\u001b[0m  \u001b[0;31m# pylint: disable=protected-access\u001b[0m\u001b[0;34m\u001b[0m\u001b[0;34m\u001b[0m\u001b[0m\n\u001b[0m\u001b[1;32m   2830\u001b[0m \u001b[0;34m\u001b[0m\u001b[0m\n\u001b[1;32m   2831\u001b[0m   \u001b[0;34m@\u001b[0m\u001b[0mproperty\u001b[0m\u001b[0;34m\u001b[0m\u001b[0;34m\u001b[0m\u001b[0m\n",
      "\u001b[0;32m~/anaconda3/lib/python3.8/site-packages/tensorflow/python/eager/function.py\u001b[0m in \u001b[0;36m_filtered_call\u001b[0;34m(self, args, kwargs, cancellation_manager)\u001b[0m\n\u001b[1;32m   1841\u001b[0m       \u001b[0;31m`\u001b[0m\u001b[0margs\u001b[0m\u001b[0;31m`\u001b[0m \u001b[0;32mand\u001b[0m\u001b[0;31m \u001b[0m\u001b[0;31m`\u001b[0m\u001b[0mkwargs\u001b[0m\u001b[0;31m`\u001b[0m\u001b[0;34m.\u001b[0m\u001b[0;34m\u001b[0m\u001b[0;34m\u001b[0m\u001b[0m\n\u001b[1;32m   1842\u001b[0m     \"\"\"\n\u001b[0;32m-> 1843\u001b[0;31m     return self._call_flat(\n\u001b[0m\u001b[1;32m   1844\u001b[0m         [t for t in nest.flatten((args, kwargs), expand_composites=True)\n\u001b[1;32m   1845\u001b[0m          if isinstance(t, (ops.Tensor,\n",
      "\u001b[0;32m~/anaconda3/lib/python3.8/site-packages/tensorflow/python/eager/function.py\u001b[0m in \u001b[0;36m_call_flat\u001b[0;34m(self, args, captured_inputs, cancellation_manager)\u001b[0m\n\u001b[1;32m   1921\u001b[0m         and executing_eagerly):\n\u001b[1;32m   1922\u001b[0m       \u001b[0;31m# No tape is watching; skip to running the function.\u001b[0m\u001b[0;34m\u001b[0m\u001b[0;34m\u001b[0m\u001b[0;34m\u001b[0m\u001b[0m\n\u001b[0;32m-> 1923\u001b[0;31m       return self._build_call_outputs(self._inference_function.call(\n\u001b[0m\u001b[1;32m   1924\u001b[0m           ctx, args, cancellation_manager=cancellation_manager))\n\u001b[1;32m   1925\u001b[0m     forward_backward = self._select_forward_and_backward_functions(\n",
      "\u001b[0;32m~/anaconda3/lib/python3.8/site-packages/tensorflow/python/eager/function.py\u001b[0m in \u001b[0;36mcall\u001b[0;34m(self, ctx, args, cancellation_manager)\u001b[0m\n\u001b[1;32m    543\u001b[0m       \u001b[0;32mwith\u001b[0m \u001b[0m_InterpolateFunctionError\u001b[0m\u001b[0;34m(\u001b[0m\u001b[0mself\u001b[0m\u001b[0;34m)\u001b[0m\u001b[0;34m:\u001b[0m\u001b[0;34m\u001b[0m\u001b[0;34m\u001b[0m\u001b[0m\n\u001b[1;32m    544\u001b[0m         \u001b[0;32mif\u001b[0m \u001b[0mcancellation_manager\u001b[0m \u001b[0;32mis\u001b[0m \u001b[0;32mNone\u001b[0m\u001b[0;34m:\u001b[0m\u001b[0;34m\u001b[0m\u001b[0;34m\u001b[0m\u001b[0m\n\u001b[0;32m--> 545\u001b[0;31m           outputs = execute.execute(\n\u001b[0m\u001b[1;32m    546\u001b[0m               \u001b[0mstr\u001b[0m\u001b[0;34m(\u001b[0m\u001b[0mself\u001b[0m\u001b[0;34m.\u001b[0m\u001b[0msignature\u001b[0m\u001b[0;34m.\u001b[0m\u001b[0mname\u001b[0m\u001b[0;34m)\u001b[0m\u001b[0;34m,\u001b[0m\u001b[0;34m\u001b[0m\u001b[0;34m\u001b[0m\u001b[0m\n\u001b[1;32m    547\u001b[0m               \u001b[0mnum_outputs\u001b[0m\u001b[0;34m=\u001b[0m\u001b[0mself\u001b[0m\u001b[0;34m.\u001b[0m\u001b[0m_num_outputs\u001b[0m\u001b[0;34m,\u001b[0m\u001b[0;34m\u001b[0m\u001b[0;34m\u001b[0m\u001b[0m\n",
      "\u001b[0;32m~/anaconda3/lib/python3.8/site-packages/tensorflow/python/eager/execute.py\u001b[0m in \u001b[0;36mquick_execute\u001b[0;34m(op_name, num_outputs, inputs, attrs, ctx, name)\u001b[0m\n\u001b[1;32m     57\u001b[0m   \u001b[0;32mtry\u001b[0m\u001b[0;34m:\u001b[0m\u001b[0;34m\u001b[0m\u001b[0;34m\u001b[0m\u001b[0m\n\u001b[1;32m     58\u001b[0m     \u001b[0mctx\u001b[0m\u001b[0;34m.\u001b[0m\u001b[0mensure_initialized\u001b[0m\u001b[0;34m(\u001b[0m\u001b[0;34m)\u001b[0m\u001b[0;34m\u001b[0m\u001b[0;34m\u001b[0m\u001b[0m\n\u001b[0;32m---> 59\u001b[0;31m     tensors = pywrap_tfe.TFE_Py_Execute(ctx._handle, device_name, op_name,\n\u001b[0m\u001b[1;32m     60\u001b[0m                                         inputs, attrs, num_outputs)\n\u001b[1;32m     61\u001b[0m   \u001b[0;32mexcept\u001b[0m \u001b[0mcore\u001b[0m\u001b[0;34m.\u001b[0m\u001b[0m_NotOkStatusException\u001b[0m \u001b[0;32mas\u001b[0m \u001b[0me\u001b[0m\u001b[0;34m:\u001b[0m\u001b[0;34m\u001b[0m\u001b[0;34m\u001b[0m\u001b[0m\n",
      "\u001b[0;31mKeyboardInterrupt\u001b[0m: "
     ]
    }
   ],
   "source": [
    "modeld.fit(X_train, y_train, batch_size=16, epochs=50)"
   ]
  },
  {
   "cell_type": "code",
   "execution_count": 283,
   "id": "f01ede99",
   "metadata": {},
   "outputs": [
    {
     "name": "stdout",
     "output_type": "stream",
     "text": [
      "Model: \"sequential_16\"\n",
      "_________________________________________________________________\n",
      "Layer (type)                 Output Shape              Param #   \n",
      "=================================================================\n",
      "gru (GRU)                    (None, 100)               30900     \n",
      "_________________________________________________________________\n",
      "dropout_14 (Dropout)         (None, 100)               0         \n",
      "_________________________________________________________________\n",
      "dense_16 (Dense)             (None, 1)                 101       \n",
      "=================================================================\n",
      "Total params: 31,001\n",
      "Trainable params: 31,001\n",
      "Non-trainable params: 0\n",
      "_________________________________________________________________\n"
     ]
    }
   ],
   "source": [
    "modeld.summary()"
   ]
  },
  {
   "cell_type": "code",
   "execution_count": 284,
   "id": "8e99f124",
   "metadata": {
    "scrolled": true
   },
   "outputs": [
    {
     "data": {
      "text/plain": [
       "(120, 1)"
      ]
     },
     "execution_count": 284,
     "metadata": {},
     "output_type": "execute_result"
    }
   ],
   "source": [
    "yhat = modeld.predict(X_test)\n",
    "\n",
    "yhat.shape"
   ]
  },
  {
   "cell_type": "code",
   "execution_count": 285,
   "id": "a0592eca",
   "metadata": {},
   "outputs": [
    {
     "data": {
      "image/png": "[encoded data removed]",
      "text/plain": [
       "<Figure size 864x288 with 1 Axes>"
      ]
     },
     "metadata": {
      "needs_background": "light"
     },
     "output_type": "display_data"
    }
   ],
   "source": [
    "# Graph the holdout actual vs prediction\n",
    "\n",
    "fig, ax = plt.subplots(figsize=(12,4))\n",
    "\n",
    "ax.plot(np.arange(len(y_test)), y_test, label='actual')\n",
    "ax.plot(np.arange(len(y_test)), yhat, label='predicted')\n",
    "ax.legend();"
   ]
  },
  {
   "cell_type": "code",
   "execution_count": 286,
   "id": "7a578ae9",
   "metadata": {},
   "outputs": [
    {
     "data": {
      "image/png": "[encoded data removed]",
      "text/plain": [
       "<Figure size 864x288 with 1 Axes>"
      ]
     },
     "metadata": {
      "needs_background": "light"
     },
     "output_type": "display_data"
    }
   ],
   "source": [
    "# residuals plot\n",
    "\n",
    "fig, ax = plt.subplots(figsize=(12,4))\n",
    "\n",
    "ax.plot(np.arange(len(y_test)), (y_test - yhat.reshape(len(yhat))))\n",
    "ax.axhline();"
   ]
  },
  {
   "cell_type": "code",
   "execution_count": 287,
   "id": "96f56fac",
   "metadata": {},
   "outputs": [
    {
     "name": "stdout",
     "output_type": "stream",
     "text": [
      "139.33333333333334\n"
     ]
    },
    {
     "data": {
      "text/plain": [
       "148.40276464930008"
      ]
     },
     "execution_count": 287,
     "metadata": {},
     "output_type": "execute_result"
    }
   ],
   "source": [
    "# RMSE baseline model\n",
    "ybase = np.ones(len(y_test)) * X_test[:, 0, -1].mean()\n",
    "\n",
    "print(X_test[:, 0, -1].mean())\n",
    "\n",
    "mean_squared_error(y_test, ybase)**0.5"
   ]
  },
  {
   "cell_type": "code",
   "execution_count": 288,
   "id": "93b590ec",
   "metadata": {},
   "outputs": [
    {
     "data": {
      "text/plain": [
       "37.927886279399736"
      ]
     },
     "execution_count": 288,
     "metadata": {},
     "output_type": "execute_result"
    }
   ],
   "source": [
    "# RMSE of this model\n",
    "mean_squared_error(y_test, yhat)**0.5"
   ]
  },
  {
   "cell_type": "markdown",
   "id": "01c9c074",
   "metadata": {},
   "source": [
    "uni, window(120) =  38.4, 38.6  \n",
    "uni, window(120), GRU = 35.4, 37.9"
   ]
  },
  {
   "cell_type": "code",
   "execution_count": 54,
   "id": "5f9f94c2",
   "metadata": {},
   "outputs": [
    {
     "name": "stdout",
     "output_type": "stream",
     "text": [
      "INFO:tensorflow:Assets written to: data/multivariate_downtown.sav/assets\n"
     ]
    }
   ],
   "source": [
    "# save model\n",
    "#model.save('data/multivariate_downtown.sav')\n",
    "\n",
    "# load model\n",
    "#model = tf.keras.models.load_model('data/univariate_downtown.sav')"
   ]
  },
  {
   "cell_type": "markdown",
   "id": "98757bb7",
   "metadata": {},
   "source": [
    "## Chinatown"
   ]
  },
  {
   "cell_type": "code",
   "execution_count": 5,
   "id": "8223a5f1",
   "metadata": {},
   "outputs": [],
   "source": [
    "# get the stations in chinatown\n",
    "groups = pd.read_csv('data/groups.csv')\n",
    "\n",
    "chinatown_stations = set(groups[groups['group'] == 'f'].name.values)"
   ]
  },
  {
   "cell_type": "code",
   "execution_count": 6,
   "id": "c9792a22",
   "metadata": {},
   "outputs": [
    {
     "data": {
      "text/html": [
       "<div>\n",
       "<style scoped>\n",
       "    .dataframe tbody tr th:only-of-type {\n",
       "        vertical-align: middle;\n",
       "    }\n",
       "\n",
       "    .dataframe tbody tr th {\n",
       "        vertical-align: top;\n",
       "    }\n",
       "\n",
       "    .dataframe thead th {\n",
       "        text-align: right;\n",
       "    }\n",
       "</style>\n",
       "<table border=\"1\" class=\"dataframe\">\n",
       "  <thead>\n",
       "    <tr style=\"text-align: right;\">\n",
       "      <th></th>\n",
       "      <th>date</th>\n",
       "      <th>hour</th>\n",
       "      <th>trip_time</th>\n",
       "      <th>round_trip</th>\n",
       "      <th>electric</th>\n",
       "      <th>member</th>\n",
       "      <th>trip_dist</th>\n",
       "    </tr>\n",
       "  </thead>\n",
       "  <tbody>\n",
       "    <tr>\n",
       "      <th>0</th>\n",
       "      <td>2020-04-07</td>\n",
       "      <td>14</td>\n",
       "      <td>1517.0</td>\n",
       "      <td>0</td>\n",
       "      <td>0</td>\n",
       "      <td>0</td>\n",
       "      <td>4911.505672</td>\n",
       "    </tr>\n",
       "    <tr>\n",
       "      <th>1</th>\n",
       "      <td>2020-04-05</td>\n",
       "      <td>20</td>\n",
       "      <td>711.0</td>\n",
       "      <td>0</td>\n",
       "      <td>0</td>\n",
       "      <td>1</td>\n",
       "      <td>2636.357561</td>\n",
       "    </tr>\n",
       "    <tr>\n",
       "      <th>2</th>\n",
       "      <td>2020-04-23</td>\n",
       "      <td>14</td>\n",
       "      <td>2410.0</td>\n",
       "      <td>0</td>\n",
       "      <td>0</td>\n",
       "      <td>0</td>\n",
       "      <td>932.635242</td>\n",
       "    </tr>\n",
       "    <tr>\n",
       "      <th>3</th>\n",
       "      <td>2020-04-11</td>\n",
       "      <td>16</td>\n",
       "      <td>1457.0</td>\n",
       "      <td>0</td>\n",
       "      <td>0</td>\n",
       "      <td>0</td>\n",
       "      <td>2509.600669</td>\n",
       "    </tr>\n",
       "    <tr>\n",
       "      <th>4</th>\n",
       "      <td>2020-04-30</td>\n",
       "      <td>16</td>\n",
       "      <td>719.0</td>\n",
       "      <td>0</td>\n",
       "      <td>0</td>\n",
       "      <td>1</td>\n",
       "      <td>2693.995352</td>\n",
       "    </tr>\n",
       "    <tr>\n",
       "      <th>...</th>\n",
       "      <td>...</td>\n",
       "      <td>...</td>\n",
       "      <td>...</td>\n",
       "      <td>...</td>\n",
       "      <td>...</td>\n",
       "      <td>...</td>\n",
       "      <td>...</td>\n",
       "    </tr>\n",
       "    <tr>\n",
       "      <th>130633</th>\n",
       "      <td>2021-03-22</td>\n",
       "      <td>10</td>\n",
       "      <td>1268.0</td>\n",
       "      <td>0</td>\n",
       "      <td>1</td>\n",
       "      <td>1</td>\n",
       "      <td>4947.244168</td>\n",
       "    </tr>\n",
       "    <tr>\n",
       "      <th>130634</th>\n",
       "      <td>2021-03-12</td>\n",
       "      <td>10</td>\n",
       "      <td>1436.0</td>\n",
       "      <td>0</td>\n",
       "      <td>1</td>\n",
       "      <td>1</td>\n",
       "      <td>4985.518909</td>\n",
       "    </tr>\n",
       "    <tr>\n",
       "      <th>130635</th>\n",
       "      <td>2021-03-25</td>\n",
       "      <td>11</td>\n",
       "      <td>1384.0</td>\n",
       "      <td>0</td>\n",
       "      <td>1</td>\n",
       "      <td>1</td>\n",
       "      <td>4992.252039</td>\n",
       "    </tr>\n",
       "    <tr>\n",
       "      <th>130636</th>\n",
       "      <td>2021-03-30</td>\n",
       "      <td>11</td>\n",
       "      <td>1339.0</td>\n",
       "      <td>0</td>\n",
       "      <td>1</td>\n",
       "      <td>1</td>\n",
       "      <td>4871.430084</td>\n",
       "    </tr>\n",
       "    <tr>\n",
       "      <th>130637</th>\n",
       "      <td>2021-03-17</td>\n",
       "      <td>14</td>\n",
       "      <td>1640.0</td>\n",
       "      <td>0</td>\n",
       "      <td>1</td>\n",
       "      <td>1</td>\n",
       "      <td>5478.511706</td>\n",
       "    </tr>\n",
       "  </tbody>\n",
       "</table>\n",
       "<p>129413 rows × 7 columns</p>\n",
       "</div>"
      ],
      "text/plain": [
       "              date  hour  trip_time  round_trip  electric  member    trip_dist\n",
       "0       2020-04-07    14     1517.0           0         0       0  4911.505672\n",
       "1       2020-04-05    20      711.0           0         0       1  2636.357561\n",
       "2       2020-04-23    14     2410.0           0         0       0   932.635242\n",
       "3       2020-04-11    16     1457.0           0         0       0  2509.600669\n",
       "4       2020-04-30    16      719.0           0         0       1  2693.995352\n",
       "...            ...   ...        ...         ...       ...     ...          ...\n",
       "130633  2021-03-22    10     1268.0           0         1       1  4947.244168\n",
       "130634  2021-03-12    10     1436.0           0         1       1  4985.518909\n",
       "130635  2021-03-25    11     1384.0           0         1       1  4992.252039\n",
       "130636  2021-03-30    11     1339.0           0         1       1  4871.430084\n",
       "130637  2021-03-17    14     1640.0           0         1       1  5478.511706\n",
       "\n",
       "[129413 rows x 7 columns]"
      ]
     },
     "execution_count": 6,
     "metadata": {},
     "output_type": "execute_result"
    }
   ],
   "source": [
    "# dataframe ready for EDA and/or hourly aggregation\n",
    "chinatown = station_data(region=chinatown_stations)\n",
    "\n",
    "chinatown"
   ]
  },
  {
   "cell_type": "code",
   "execution_count": 13,
   "id": "d86a83c9",
   "metadata": {},
   "outputs": [
    {
     "data": {
      "text/plain": [
       "array([[0.        , 0.        , 0.        , 0.        , 0.        ,\n",
       "        0.        ],\n",
       "       [0.        , 0.        , 0.        , 0.        , 0.        ,\n",
       "        0.        ],\n",
       "       [0.        , 0.        , 0.        , 0.        , 0.        ,\n",
       "        0.        ],\n",
       "       ...,\n",
       "       [0.08982286, 0.        , 0.        , 0.71428571, 0.17663039,\n",
       "        7.        ],\n",
       "       [0.07157001, 0.        , 0.        , 0.        , 0.13178059,\n",
       "        3.        ],\n",
       "       [0.17802923, 0.        , 0.25      , 0.25      , 0.17479441,\n",
       "        4.        ]])"
      ]
     },
     "execution_count": 13,
     "metadata": {},
     "output_type": "execute_result"
    }
   ],
   "source": [
    "# vectorized data, should be shape 8760, 7 regardless of how many trips there were\n",
    "chinatown_s = serialize(chinatown)\n",
    "\n",
    "chinatown_s"
   ]
  },
  {
   "cell_type": "code",
   "execution_count": 17,
   "id": "247dc32b",
   "metadata": {},
   "outputs": [
    {
     "data": {
      "text/plain": [
       "((8400, 120, 6), (120, 120, 6), (8400,), (120,))"
      ]
     },
     "execution_count": 17,
     "metadata": {},
     "output_type": "execute_result"
    }
   ],
   "source": [
    "# LSTM inputs\n",
    "\n",
    "X_train, X_test, y_train, y_test = split_and_windowize(chinatown_s, 120, 0.0001, univariate=False)\n",
    "\n",
    "X_train.shape, X_test.shape, y_train.shape, y_test.shape"
   ]
  },
  {
   "cell_type": "code",
   "execution_count": 38,
   "id": "b2d1e3f8",
   "metadata": {},
   "outputs": [],
   "source": [
    "# model f for group f which is chinatown\n",
    "\n",
    "modelf = tf.keras.Sequential()\n",
    "modelf.add(tf.keras.layers.GRU(100, return_sequences=False))\n",
    "modelf.add(tf.keras.layers.Dropout(0.3))\n",
    "modelf.add(tf.keras.layers.Dense(1, activation='relu'))\n",
    "modelf.compile(optimizer='rmsprop', loss='mse')"
   ]
  },
  {
   "cell_type": "code",
   "execution_count": 39,
   "id": "c8bfd3e7",
   "metadata": {
    "scrolled": true
   },
   "outputs": [
    {
     "name": "stdout",
     "output_type": "stream",
     "text": [
      "Epoch 1/50\n",
      "525/525 [==============================] - 21s 39ms/step - loss: 225.9735\n",
      "Epoch 2/50\n",
      "525/525 [==============================] - 20s 39ms/step - loss: 95.6726\n",
      "Epoch 3/50\n",
      "525/525 [==============================] - 21s 40ms/step - loss: 75.6824\n",
      "Epoch 4/50\n",
      "525/525 [==============================] - 22s 42ms/step - loss: 67.0891\n",
      "Epoch 5/50\n",
      "525/525 [==============================] - 22s 41ms/step - loss: 64.0509\n",
      "Epoch 6/50\n",
      "525/525 [==============================] - 22s 41ms/step - loss: 64.8673\n",
      "Epoch 7/50\n",
      "525/525 [==============================] - 20s 39ms/step - loss: 62.0461\n",
      "Epoch 8/50\n",
      "525/525 [==============================] - 22s 41ms/step - loss: 60.5197\n",
      "Epoch 9/50\n",
      "525/525 [==============================] - 21s 41ms/step - loss: 59.9254\n",
      "Epoch 10/50\n",
      "525/525 [==============================] - 23s 43ms/step - loss: 58.2792\n",
      "Epoch 11/50\n",
      "525/525 [==============================] - 23s 43ms/step - loss: 58.0642\n",
      "Epoch 12/50\n",
      "525/525 [==============================] - 23s 44ms/step - loss: 56.6551\n",
      "Epoch 13/50\n",
      "525/525 [==============================] - 23s 44ms/step - loss: 55.8262\n",
      "Epoch 14/50\n",
      "525/525 [==============================] - 22s 42ms/step - loss: 56.1648\n",
      "Epoch 15/50\n",
      "525/525 [==============================] - 22s 42ms/step - loss: 54.7889\n",
      "Epoch 16/50\n",
      "525/525 [==============================] - 22s 42ms/step - loss: 53.9138\n",
      "Epoch 17/50\n",
      "525/525 [==============================] - 22s 43ms/step - loss: 54.9724\n",
      "Epoch 18/50\n",
      "525/525 [==============================] - 22s 43ms/step - loss: 55.0914\n",
      "Epoch 19/50\n",
      "525/525 [==============================] - 22s 42ms/step - loss: 53.0870\n",
      "Epoch 20/50\n",
      "525/525 [==============================] - 22s 42ms/step - loss: 54.5261\n",
      "Epoch 21/50\n",
      "525/525 [==============================] - 22s 43ms/step - loss: 54.3899\n",
      "Epoch 22/50\n",
      "525/525 [==============================] - 23s 43ms/step - loss: 52.9639\n",
      "Epoch 23/50\n",
      "525/525 [==============================] - 22s 41ms/step - loss: 51.9483\n",
      "Epoch 24/50\n",
      "525/525 [==============================] - 21s 40ms/step - loss: 51.7242\n",
      "Epoch 25/50\n",
      "525/525 [==============================] - 22s 43ms/step - loss: 51.6433\n",
      "Epoch 26/50\n",
      "525/525 [==============================] - 22s 42ms/step - loss: 51.0070\n",
      "Epoch 27/50\n",
      "525/525 [==============================] - 22s 42ms/step - loss: 51.1966\n",
      "Epoch 28/50\n",
      "525/525 [==============================] - 21s 41ms/step - loss: 51.8248\n",
      "Epoch 29/50\n",
      "525/525 [==============================] - 23s 44ms/step - loss: 50.1537\n",
      "Epoch 30/50\n",
      "525/525 [==============================] - 22s 43ms/step - loss: 49.8462\n",
      "Epoch 31/50\n",
      "525/525 [==============================] - 22s 42ms/step - loss: 50.2120\n",
      "Epoch 32/50\n",
      "525/525 [==============================] - 22s 42ms/step - loss: 50.5382\n",
      "Epoch 33/50\n",
      "525/525 [==============================] - 20s 38ms/step - loss: 49.1283\n",
      "Epoch 34/50\n",
      "525/525 [==============================] - 19s 36ms/step - loss: 49.4637\n",
      "Epoch 35/50\n",
      "525/525 [==============================] - 20s 38ms/step - loss: 47.4330\n",
      "Epoch 36/50\n",
      "525/525 [==============================] - 19s 36ms/step - loss: 48.0118\n",
      "Epoch 37/50\n",
      "525/525 [==============================] - 20s 38ms/step - loss: 46.1876\n",
      "Epoch 38/50\n",
      "525/525 [==============================] - 22s 42ms/step - loss: 47.2775\n",
      "Epoch 39/50\n",
      "525/525 [==============================] - 21s 40ms/step - loss: 47.6575\n",
      "Epoch 40/50\n",
      "525/525 [==============================] - 22s 42ms/step - loss: 45.7560\n",
      "Epoch 41/50\n",
      "525/525 [==============================] - 22s 43ms/step - loss: 46.7443\n",
      "Epoch 42/50\n",
      "525/525 [==============================] - 21s 39ms/step - loss: 46.7982\n",
      "Epoch 43/50\n",
      "525/525 [==============================] - 23s 43ms/step - loss: 46.5702\n",
      "Epoch 44/50\n",
      "525/525 [==============================] - 22s 41ms/step - loss: 45.5140\n",
      "Epoch 45/50\n",
      "525/525 [==============================] - 22s 43ms/step - loss: 44.9896\n",
      "Epoch 46/50\n",
      "525/525 [==============================] - 22s 42ms/step - loss: 44.3300\n",
      "Epoch 47/50\n",
      "525/525 [==============================] - 21s 40ms/step - loss: 45.5209\n",
      "Epoch 48/50\n",
      "525/525 [==============================] - 22s 41ms/step - loss: 44.5856\n",
      "Epoch 49/50\n",
      "525/525 [==============================] - 22s 41ms/step - loss: 44.3744\n",
      "Epoch 50/50\n",
      "525/525 [==============================] - 22s 42ms/step - loss: 44.4858\n"
     ]
    },
    {
     "data": {
      "text/plain": [
       "<tensorflow.python.keras.callbacks.History at 0x7fd0486b3e80>"
      ]
     },
     "execution_count": 39,
     "metadata": {},
     "output_type": "execute_result"
    }
   ],
   "source": [
    "# fitting the model (takes time!)\n",
    "modelf.fit(X_train, y_train, batch_size=16, epochs=50)"
   ]
  },
  {
   "cell_type": "code",
   "execution_count": 31,
   "id": "3019e444",
   "metadata": {},
   "outputs": [
    {
     "name": "stdout",
     "output_type": "stream",
     "text": [
      "Model: \"sequential\"\n",
      "_________________________________________________________________\n",
      "Layer (type)                 Output Shape              Param #   \n",
      "=================================================================\n",
      "lstm (LSTM)                  (None, 100)               42800     \n",
      "_________________________________________________________________\n",
      "dropout (Dropout)            (None, 100)               0         \n",
      "_________________________________________________________________\n",
      "dense (Dense)                (None, 1)                 101       \n",
      "=================================================================\n",
      "Total params: 42,901\n",
      "Trainable params: 42,901\n",
      "Non-trainable params: 0\n",
      "_________________________________________________________________\n"
     ]
    }
   ],
   "source": [
    "# to check parameters and shapes\n",
    "modelf.summary()"
   ]
  },
  {
   "cell_type": "code",
   "execution_count": 41,
   "id": "87605c01",
   "metadata": {},
   "outputs": [],
   "source": [
    "# make a prediction on the holdout\n",
    "yhat = modelf.predict(X_test)"
   ]
  },
  {
   "cell_type": "code",
   "execution_count": 42,
   "id": "c328d524",
   "metadata": {},
   "outputs": [
    {
     "data": {
      "text/plain": [
       "(120, 1)"
      ]
     },
     "execution_count": 42,
     "metadata": {},
     "output_type": "execute_result"
    }
   ],
   "source": [
    "yhat.shape"
   ]
  },
  {
   "cell_type": "code",
   "execution_count": 43,
   "id": "0932b360",
   "metadata": {},
   "outputs": [
    {
     "data": {
      "image/png": "[encoded data removed]",
      "text/plain": [
       "<Figure size 864x288 with 1 Axes>"
      ]
     },
     "metadata": {
      "needs_background": "light"
     },
     "output_type": "display_data"
    }
   ],
   "source": [
    "# Graph the holdout actual vs prediction\n",
    "\n",
    "fig, ax = plt.subplots(figsize=(12,4))\n",
    "\n",
    "ax.plot(np.arange(len(y_test)), y_test, label='actual')\n",
    "ax.plot(np.arange(len(y_test)), yhat, label='predicted')\n",
    "ax.legend();"
   ]
  },
  {
   "cell_type": "code",
   "execution_count": 44,
   "id": "1fbf37a9",
   "metadata": {},
   "outputs": [
    {
     "data": {
      "image/png": "[encoded data removed]",
      "text/plain": [
       "<Figure size 864x288 with 1 Axes>"
      ]
     },
     "metadata": {
      "needs_background": "light"
     },
     "output_type": "display_data"
    }
   ],
   "source": [
    "# residuals plot\n",
    "\n",
    "fig, ax = plt.subplots(figsize=(12,4))\n",
    "\n",
    "ax.plot(np.arange(len(y_test)), (y_test - yhat.reshape(len(yhat))))\n",
    "ax.axhline();"
   ]
  },
  {
   "cell_type": "code",
   "execution_count": 45,
   "id": "fc9eff7a",
   "metadata": {},
   "outputs": [],
   "source": [
    "# save model\n",
    "#modelf.save('models/univariate_chinatown.sav')\n",
    "\n",
    "# load model\n",
    "#model_something = tf.keras.models.load_model('models/univariate_chinatown.sav')"
   ]
  },
  {
   "cell_type": "code",
   "execution_count": 46,
   "id": "2e7f0533",
   "metadata": {},
   "outputs": [
    {
     "data": {
      "text/plain": [
       "6.020178372948466"
      ]
     },
     "execution_count": 46,
     "metadata": {},
     "output_type": "execute_result"
    }
   ],
   "source": [
    "# RMSE of this model\n",
    "mean_squared_error(y_test, yhat)**0.5"
   ]
  },
  {
   "cell_type": "code",
   "execution_count": 47,
   "id": "200fabbd",
   "metadata": {},
   "outputs": [
    {
     "name": "stdout",
     "output_type": "stream",
     "text": [
      "11.55\n"
     ]
    },
    {
     "data": {
      "text/plain": [
       "13.799728258194072"
      ]
     },
     "execution_count": 47,
     "metadata": {},
     "output_type": "execute_result"
    }
   ],
   "source": [
    "# RMSE baseline model\n",
    "ybase = np.ones(len(y_test)) * X_test[:, 0, -1].mean()\n",
    "\n",
    "mean_squared_error(y_test, ybase)**0.5"
   ]
  },
  {
   "cell_type": "markdown",
   "id": "26b6d0b5",
   "metadata": {},
   "source": [
    "univariate, dropout(0), window(50) = 6.3  \n",
    "univariate, dropout(0.2), window(50) = 6.1  \n",
    "univariate, dropout(0.3), window(120) = 6.8, 6.7, 7.6 (overfit)  \n",
    "univariate, dropout(0.3), window(240) = 12 (was this done correctly?)  \n",
    "multivariate, dropout(0.3), window(50) = 9.0 (8.9)  \n",
    "multivariate, dropout(0.3), window(72) = 9.2, 8.1, 7.7, 9.0  \n",
    "multivariate, dropout(0.3), window(120) = 8.6, 8.9  \n",
    "multivariate, dropout(0.3), window(120), scaled_X = 6.9, 6.8  \n",
    "multivariate, dropout(0.3), window(120), scaled_X, GRU = 6.0 (winner!)  \n",
    "multivariate, dropout(0.2), window(240) = 9.2  \n",
    "multivariate, dropout(0.3), window(72), extra LSTM layer = 10.9  \n"
   ]
  },
  {
   "cell_type": "code",
   "execution_count": 100,
   "id": "8f2c9821",
   "metadata": {
    "scrolled": false
   },
   "outputs": [],
   "source": [
    "def plot_model(model, X_test, y_test):\n",
    "\n",
    "    yhat = model.predict(X_test)\n",
    "\n",
    "    if len(yhat) != len(y_test):\n",
    "        print('shape mismatch in plotting function')\n",
    "\n",
    "    fig, (ax1, ax2) = plt.subplots(2, figsize=(12,7), gridspec_kw={'height_ratios': [2, 1]})\n",
    "\n",
    "    ax1.plot(np.arange(len(y_test)), y_test, c='darkslategrey', label='actual')\n",
    "    ax1.plot(np.arange(len(y_test)), yhat, c='orangered', label='predicted')\n",
    "    ax1.set_ylabel('Trips in & out')\n",
    "    ax1.title.set_text('Traffic predictions')\n",
    "    ax1.set_xticklabels([])\n",
    "    ax1.legend()\n",
    "\n",
    "    ax2.plot(np.arange(len(y_test)), (y_test - yhat.reshape(len(yhat))), c='orangered')\n",
    "    ax2.axhline(c='darkslategrey')\n",
    "    ax2.set_xlabel('Hours')\n",
    "    ax2.set_ylabel('Trip Error')\n",
    "    ax2.title.set_text('Error between Actual and Predicted Traffic');"
   ]
  },
  {
   "cell_type": "code",
   "execution_count": 101,
   "id": "14ef8669",
   "metadata": {},
   "outputs": [
    {
     "data": {
      "image/png": "[encoded data removed]",
      "text/plain": [
       "<Figure size 864x504 with 2 Axes>"
      ]
     },
     "metadata": {},
     "output_type": "display_data"
    }
   ],
   "source": [
    "plot_model(modelf, X_test, y_test)"
   ]
  },
  {
   "cell_type": "markdown",
   "id": "a35e5a12",
   "metadata": {},
   "source": [
    "## model pipe"
   ]
  },
  {
   "cell_type": "code",
   "execution_count": 70,
   "id": "2ae960a2",
   "metadata": {},
   "outputs": [],
   "source": [
    "class Model:\n",
    "    def __init__(self, df=None, univariate=True, old_model=None):\n",
    "        '''output of station_data(region, eda=False) should be passed'''\n",
    "        if old_model is not None:\n",
    "            self.model = old_model\n",
    "            return None\n",
    "        \n",
    "        self.df = np.array(df)\n",
    "        \n",
    "        if self.df.shape[1] == 1:\n",
    "            self.univariate=False\n",
    "        else:\n",
    "            self.univariate = univariate\n",
    "        \n",
    "        if self.univariate == True:\n",
    "            self.X_train, self.X_test, self.y_train, self.y_test = split_and_windowize(self.df[:, -1], 120, 0.0001, univariate=self.univariate)\n",
    "        else:\n",
    "            self.X_train, self.X_test, self.y_train, self.y_test = split_and_windowize(self.df, 120, 0.0001, univariate=self.univariate)\n",
    "\n",
    "        # Model structure, feel free to manipulate but this was the best I found\n",
    "        self.model = tf.keras.Sequential()\n",
    "        self.model.add(tf.keras.layers.GRU(100, return_sequences=False))\n",
    "        self.model.add(tf.keras.layers.Dropout(0.3))\n",
    "        self.model.add(tf.keras.layers.Dense(1, activation='relu'))\n",
    "        self.model.compile(optimizer='rmsprop', loss='mse')\n",
    "    \n",
    "    def windowize_data(self, data, n_prev, univariate=True):\n",
    "        '''univariate'''\n",
    "        n_predictions = len(data) - n_prev\n",
    "        indices = np.arange(n_prev) + np.arange(n_predictions)[:, None]\n",
    "\n",
    "        if univariate == False:\n",
    "            y = data[n_prev:, -1]\n",
    "            x = data[indices]\n",
    "        else:\n",
    "            y = data[n_prev:]\n",
    "            x = data[indices, None]\n",
    "        return x, y\n",
    "\n",
    "    def split_and_windowize(self, data, n_prev, fraction_test=0.1, univariate=True):\n",
    "        '''Train/test splits data with added timestep dimension'''\n",
    "        n_predictions = len(data) - 2*n_prev\n",
    "\n",
    "        n_test  = int(fraction_test * n_predictions)\n",
    "        n_train = n_predictions - n_test   \n",
    "\n",
    "        x_train, y_train = windowize_data(data[:n_train], n_prev, univariate=univariate)\n",
    "        x_test, y_test = windowize_data(data[n_train:], n_prev, univariate=univariate)\n",
    "        return x_train, x_test, y_train, y_test\n",
    "\n",
    "    def train(self):\n",
    "        self.model.fit(self.X_train, self.y_train, batch_size=16, epochs=50)\n",
    "    \n",
    "    def predict(self, X_test=None):\n",
    "        if X_test is None:\n",
    "            return self.model.predict(self.X_test)\n",
    "        else:\n",
    "            return self.model.predict(X_test)\n",
    "\n",
    "    def predict_plot(self, X_test=None):\n",
    "        \n",
    "        if X_test is None:\n",
    "            X_test = self.X_test\n",
    "\n",
    "        yhat = self.predict(X_test)\n",
    "\n",
    "        if len(yhat) != len(self.y_test):\n",
    "            print('shape mismatch in plotting function')\n",
    "\n",
    "        fig, (ax1, ax2) = plt.subplots(2, figsize=(12,7), gridspec_kw={'height_ratios': [2, 1]})\n",
    "\n",
    "        ax1.plot(np.arange(len(self.y_test)), self.y_test, c='darkslategrey', label='actual')\n",
    "        ax1.plot(np.arange(len(self.y_test)), yhat, c='orangered', label='predicted')\n",
    "        ax1.set_ylabel('Trips in & out')\n",
    "        ax1.title.set_text('Traffic predictions')\n",
    "        ax1.set_xticklabels([])\n",
    "        ax1.legend()\n",
    "\n",
    "        ax2.plot(np.arange(len(self.y_test)), (self.y_test - yhat.reshape(len(yhat))), c='orangered')\n",
    "        ax2.axhline(c='darkslategrey')\n",
    "        ax2.set_xlabel('Hours')\n",
    "        ax2.set_ylabel('Trip Error')\n",
    "        ax2.title.set_text('Error between Actual and Predicted Traffic');\n",
    "    \n",
    "    def predict_score(self, X_test=None):\n",
    "        \n",
    "        if X_test is None:\n",
    "            X_test = self.X_test\n",
    "        \n",
    "        if self.univariate == True:\n",
    "            ybase = np.ones(len(self.y_test)) * X_test[:, 0, -1].mean()\n",
    "        else:\n",
    "            ybase = np.ones(len(self.y_test)) * X_test.mean()\n",
    "\n",
    "        ybase = mean_squared_error(self.y_test, ybase)**0.5\n",
    "        \n",
    "        yhat = self.predict(X_test)\n",
    "        \n",
    "        yhat = mean_squared_error(self.y_test, yhat)**0.5\n",
    "        \n",
    "        print('This model did {}% better than baseline ({})'.format(round((1-yhat/ybase)*100, 2), round(ybase, 2)))\n",
    "        \n",
    "        return yhat"
   ]
  },
  {
   "cell_type": "code",
   "execution_count": 104,
   "id": "368d31fb",
   "metadata": {},
   "outputs": [],
   "source": [
    "hp_e = station_data('hyde_park', start_end='end')"
   ]
  },
  {
   "cell_type": "code",
   "execution_count": 105,
   "id": "92d53657",
   "metadata": {},
   "outputs": [],
   "source": [
    "model_h = Model(hp_e)"
   ]
  },
  {
   "cell_type": "code",
   "execution_count": 106,
   "id": "9061124e",
   "metadata": {
    "scrolled": true
   },
   "outputs": [
    {
     "name": "stdout",
     "output_type": "stream",
     "text": [
      "Epoch 1/50\n",
      "525/525 [==============================] - 23s 44ms/step - loss: 165.1949\n",
      "Epoch 2/50\n",
      "525/525 [==============================] - 22s 42ms/step - loss: 71.6982\n",
      "Epoch 3/50\n",
      "525/525 [==============================] - 24s 46ms/step - loss: 59.5556\n",
      "Epoch 4/50\n",
      "525/525 [==============================] - 25s 47ms/step - loss: 55.7889\n",
      "Epoch 5/50\n",
      "525/525 [==============================] - 25s 47ms/step - loss: 53.0274\n",
      "Epoch 6/50\n",
      "525/525 [==============================] - 23s 45ms/step - loss: 52.1834\n",
      "Epoch 7/50\n",
      "525/525 [==============================] - 24s 45ms/step - loss: 50.0775\n",
      "Epoch 8/50\n",
      "525/525 [==============================] - 23s 45ms/step - loss: 50.5649\n",
      "Epoch 9/50\n",
      "525/525 [==============================] - 25s 48ms/step - loss: 48.5306\n",
      "Epoch 10/50\n",
      "525/525 [==============================] - 26s 49ms/step - loss: 48.9180\n",
      "Epoch 11/50\n",
      "525/525 [==============================] - 25s 48ms/step - loss: 47.8958\n",
      "Epoch 12/50\n",
      "525/525 [==============================] - 24s 45ms/step - loss: 48.1516\n",
      "Epoch 13/50\n",
      "525/525 [==============================] - 25s 47ms/step - loss: 47.4963\n",
      "Epoch 14/50\n",
      "525/525 [==============================] - 24s 46ms/step - loss: 47.4132\n",
      "Epoch 15/50\n",
      "525/525 [==============================] - 25s 48ms/step - loss: 46.4577\n",
      "Epoch 16/50\n",
      "525/525 [==============================] - 25s 49ms/step - loss: 47.0438\n",
      "Epoch 17/50\n",
      "525/525 [==============================] - 26s 49ms/step - loss: 46.2845\n",
      "Epoch 18/50\n",
      "525/525 [==============================] - 25s 48ms/step - loss: 46.2195\n",
      "Epoch 19/50\n",
      "525/525 [==============================] - 25s 48ms/step - loss: 45.4779\n",
      "Epoch 20/50\n",
      "525/525 [==============================] - 26s 49ms/step - loss: 45.2240\n",
      "Epoch 21/50\n",
      "525/525 [==============================] - 25s 48ms/step - loss: 45.4344\n",
      "Epoch 22/50\n",
      "525/525 [==============================] - 25s 48ms/step - loss: 44.7437\n",
      "Epoch 23/50\n",
      "525/525 [==============================] - 25s 47ms/step - loss: 44.8368\n",
      "Epoch 24/50\n",
      "525/525 [==============================] - 24s 46ms/step - loss: 44.7898\n",
      "Epoch 25/50\n",
      "525/525 [==============================] - 26s 49ms/step - loss: 44.1364\n",
      "Epoch 26/50\n",
      "525/525 [==============================] - 25s 48ms/step - loss: 43.8484\n",
      "Epoch 27/50\n",
      "525/525 [==============================] - 25s 49ms/step - loss: 44.2904\n",
      "Epoch 28/50\n",
      "525/525 [==============================] - 23s 44ms/step - loss: 44.1183\n",
      "Epoch 29/50\n",
      "525/525 [==============================] - 25s 47ms/step - loss: 42.7156\n",
      "Epoch 30/50\n",
      "525/525 [==============================] - 25s 48ms/step - loss: 43.4498\n",
      "Epoch 31/50\n",
      "525/525 [==============================] - 25s 48ms/step - loss: 42.4901\n",
      "Epoch 32/50\n",
      "525/525 [==============================] - 25s 48ms/step - loss: 43.1630\n",
      "Epoch 33/50\n",
      "525/525 [==============================] - 23s 44ms/step - loss: 42.1233\n",
      "Epoch 34/50\n",
      "525/525 [==============================] - 25s 48ms/step - loss: 42.0137\n",
      "Epoch 35/50\n",
      "525/525 [==============================] - 25s 48ms/step - loss: 41.9197\n",
      "Epoch 36/50\n",
      "525/525 [==============================] - 25s 48ms/step - loss: 41.8470\n",
      "Epoch 37/50\n",
      "525/525 [==============================] - 25s 47ms/step - loss: 42.3525\n",
      "Epoch 38/50\n",
      "525/525 [==============================] - 25s 47ms/step - loss: 43.1517\n",
      "Epoch 39/50\n",
      "525/525 [==============================] - 25s 47ms/step - loss: 42.5033\n",
      "Epoch 40/50\n",
      "525/525 [==============================] - 25s 47ms/step - loss: 40.7214\n",
      "Epoch 41/50\n",
      "525/525 [==============================] - 25s 47ms/step - loss: 42.3579\n",
      "Epoch 42/50\n",
      "525/525 [==============================] - 25s 47ms/step - loss: 40.8785\n",
      "Epoch 43/50\n",
      "525/525 [==============================] - 25s 47ms/step - loss: 40.6891\n",
      "Epoch 44/50\n",
      "525/525 [==============================] - 25s 47ms/step - loss: 40.8358\n",
      "Epoch 45/50\n",
      "525/525 [==============================] - 25s 47ms/step - loss: 40.3893\n",
      "Epoch 46/50\n",
      "525/525 [==============================] - 25s 47ms/step - loss: 40.2128\n",
      "Epoch 47/50\n",
      "525/525 [==============================] - 25s 47ms/step - loss: 40.3420\n",
      "Epoch 48/50\n",
      "525/525 [==============================] - 25s 47ms/step - loss: 40.4571\n",
      "Epoch 49/50\n",
      "525/525 [==============================] - 25s 47ms/step - loss: 39.8944\n",
      "Epoch 50/50\n",
      "525/525 [==============================] - 25s 48ms/step - loss: 40.4469\n"
     ]
    }
   ],
   "source": [
    "model_h.train()"
   ]
  },
  {
   "cell_type": "code",
   "execution_count": 107,
   "id": "aafda736",
   "metadata": {},
   "outputs": [
    {
     "name": "stdout",
     "output_type": "stream",
     "text": [
      "This model did 58.42% better than baseline (13.54)\n"
     ]
    },
    {
     "data": {
      "text/plain": [
       "5.630457492309591"
      ]
     },
     "execution_count": 107,
     "metadata": {},
     "output_type": "execute_result"
    }
   ],
   "source": [
    "model_h.predict_score()"
   ]
  },
  {
   "cell_type": "markdown",
   "id": "84e33c70",
   "metadata": {},
   "source": [
    "china start: 4.8, 5.3 (9.6)\n",
    "china end: 6.7, 6.5, 7.13 ()\n",
    "uptown start: 8.5, 8.5 (20.8)\n",
    "uptown end: 11.3, 10.6, 11.8 (31.9)\n",
    "hyde start: 5.2, 5.2 (11.2)\n",
    "hyde end: 5.6, (13.5)\n",
    "\n",
    "\n",
    "train --> save --> train again --> better? save and train again"
   ]
  },
  {
   "cell_type": "code",
   "execution_count": 91,
   "id": "bc578e5a",
   "metadata": {
    "scrolled": false
   },
   "outputs": [
    {
     "data": {
      "image/png": "[encoded data removed]",
      "text/plain": [
       "<Figure size 864x504 with 2 Axes>"
      ]
     },
     "metadata": {},
     "output_type": "display_data"
    }
   ],
   "source": [
    "model_h.predict_plot()"
   ]
  },
  {
   "cell_type": "code",
   "execution_count": null,
   "id": "a8392f88",
   "metadata": {},
   "outputs": [],
   "source": []
  },
  {
   "cell_type": "code",
   "execution_count": null,
   "id": "ea54ad61",
   "metadata": {},
   "outputs": [],
   "source": []
  },
  {
   "cell_type": "code",
   "execution_count": 108,
   "id": "4e6d636a",
   "metadata": {},
   "outputs": [
    {
     "name": "stdout",
     "output_type": "stream",
     "text": [
      "INFO:tensorflow:Assets written to: models/hydepark_end/assets\n"
     ]
    }
   ],
   "source": [
    "# save model (saves as a directory)\n",
    "model_u.model.save('models/hydepark_end')\n",
    "\n",
    "# load model\n",
    "#model = tf.keras.models.load_model('data/univariate_downtown.sav')"
   ]
  },
  {
   "cell_type": "code",
   "execution_count": 96,
   "id": "6de240a2",
   "metadata": {},
   "outputs": [
    {
     "ename": "OSError",
     "evalue": "SavedModel file does not exist at: models/hydepark_start/saved_model.pb/{saved_model.pbtxt|saved_model.pb}",
     "output_type": "error",
     "traceback": [
      "\u001b[0;31m---------------------------------------------------------------------------\u001b[0m",
      "\u001b[0;31mOSError\u001b[0m                                   Traceback (most recent call last)",
      "\u001b[0;32m<ipython-input-96-0e8e88672086>\u001b[0m in \u001b[0;36m<module>\u001b[0;34m\u001b[0m\n\u001b[0;32m----> 1\u001b[0;31m \u001b[0mblah\u001b[0m \u001b[0;34m=\u001b[0m \u001b[0mtf\u001b[0m\u001b[0;34m.\u001b[0m\u001b[0mkeras\u001b[0m\u001b[0;34m.\u001b[0m\u001b[0mmodels\u001b[0m\u001b[0;34m.\u001b[0m\u001b[0mload_model\u001b[0m\u001b[0;34m(\u001b[0m\u001b[0;34m'models/hydepark_start/saved_model.pb'\u001b[0m\u001b[0;34m)\u001b[0m\u001b[0;34m\u001b[0m\u001b[0;34m\u001b[0m\u001b[0m\n\u001b[0m",
      "\u001b[0;32m~/anaconda3/lib/python3.8/site-packages/tensorflow/python/keras/saving/save.py\u001b[0m in \u001b[0;36mload_model\u001b[0;34m(filepath, custom_objects, compile, options)\u001b[0m\n\u001b[1;32m    184\u001b[0m     \u001b[0mfilepath\u001b[0m \u001b[0;34m=\u001b[0m \u001b[0mpath_to_string\u001b[0m\u001b[0;34m(\u001b[0m\u001b[0mfilepath\u001b[0m\u001b[0;34m)\u001b[0m\u001b[0;34m\u001b[0m\u001b[0;34m\u001b[0m\u001b[0m\n\u001b[1;32m    185\u001b[0m     \u001b[0;32mif\u001b[0m \u001b[0misinstance\u001b[0m\u001b[0;34m(\u001b[0m\u001b[0mfilepath\u001b[0m\u001b[0;34m,\u001b[0m \u001b[0msix\u001b[0m\u001b[0;34m.\u001b[0m\u001b[0mstring_types\u001b[0m\u001b[0;34m)\u001b[0m\u001b[0;34m:\u001b[0m\u001b[0;34m\u001b[0m\u001b[0;34m\u001b[0m\u001b[0m\n\u001b[0;32m--> 186\u001b[0;31m       \u001b[0mloader_impl\u001b[0m\u001b[0;34m.\u001b[0m\u001b[0mparse_saved_model\u001b[0m\u001b[0;34m(\u001b[0m\u001b[0mfilepath\u001b[0m\u001b[0;34m)\u001b[0m\u001b[0;34m\u001b[0m\u001b[0;34m\u001b[0m\u001b[0m\n\u001b[0m\u001b[1;32m    187\u001b[0m       \u001b[0;32mreturn\u001b[0m \u001b[0msaved_model_load\u001b[0m\u001b[0;34m.\u001b[0m\u001b[0mload\u001b[0m\u001b[0;34m(\u001b[0m\u001b[0mfilepath\u001b[0m\u001b[0;34m,\u001b[0m \u001b[0mcompile\u001b[0m\u001b[0;34m,\u001b[0m \u001b[0moptions\u001b[0m\u001b[0;34m)\u001b[0m\u001b[0;34m\u001b[0m\u001b[0;34m\u001b[0m\u001b[0m\n\u001b[1;32m    188\u001b[0m \u001b[0;34m\u001b[0m\u001b[0m\n",
      "\u001b[0;32m~/anaconda3/lib/python3.8/site-packages/tensorflow/python/saved_model/loader_impl.py\u001b[0m in \u001b[0;36mparse_saved_model\u001b[0;34m(export_dir)\u001b[0m\n\u001b[1;32m    108\u001b[0m       \u001b[0;32mraise\u001b[0m \u001b[0mIOError\u001b[0m\u001b[0;34m(\u001b[0m\u001b[0;34m\"Cannot parse file %s: %s.\"\u001b[0m \u001b[0;34m%\u001b[0m \u001b[0;34m(\u001b[0m\u001b[0mpath_to_pbtxt\u001b[0m\u001b[0;34m,\u001b[0m \u001b[0mstr\u001b[0m\u001b[0;34m(\u001b[0m\u001b[0me\u001b[0m\u001b[0;34m)\u001b[0m\u001b[0;34m)\u001b[0m\u001b[0;34m)\u001b[0m\u001b[0;34m\u001b[0m\u001b[0;34m\u001b[0m\u001b[0m\n\u001b[1;32m    109\u001b[0m   \u001b[0;32melse\u001b[0m\u001b[0;34m:\u001b[0m\u001b[0;34m\u001b[0m\u001b[0;34m\u001b[0m\u001b[0m\n\u001b[0;32m--> 110\u001b[0;31m     raise IOError(\"SavedModel file does not exist at: %s/{%s|%s}\" %\n\u001b[0m\u001b[1;32m    111\u001b[0m                   (export_dir,\n\u001b[1;32m    112\u001b[0m                    \u001b[0mconstants\u001b[0m\u001b[0;34m.\u001b[0m\u001b[0mSAVED_MODEL_FILENAME_PBTXT\u001b[0m\u001b[0;34m,\u001b[0m\u001b[0;34m\u001b[0m\u001b[0;34m\u001b[0m\u001b[0m\n",
      "\u001b[0;31mOSError\u001b[0m: SavedModel file does not exist at: models/hydepark_start/saved_model.pb/{saved_model.pbtxt|saved_model.pb}"
     ]
    }
   ],
   "source": [
    "old_model = tf.keras.models.load_model('models/hydepark_end')"
   ]
  },
  {
   "cell_type": "code",
   "execution_count": 97,
   "id": "e9b90120",
   "metadata": {},
   "outputs": [
    {
     "name": "stdout",
     "output_type": "stream",
     "text": [
      "Model: \"sequential_7\"\n",
      "_________________________________________________________________\n",
      "Layer (type)                 Output Shape              Param #   \n",
      "=================================================================\n",
      "gru_7 (GRU)                  (None, 100)               30900     \n",
      "_________________________________________________________________\n",
      "dropout_7 (Dropout)          (None, 100)               0         \n",
      "_________________________________________________________________\n",
      "dense_7 (Dense)              (None, 1)                 101       \n",
      "=================================================================\n",
      "Total params: 31,001\n",
      "Trainable params: 31,001\n",
      "Non-trainable params: 0\n",
      "_________________________________________________________________\n"
     ]
    }
   ],
   "source": [
    "old_model.summary()"
   ]
  },
  {
   "cell_type": "code",
   "execution_count": 102,
   "id": "96961986",
   "metadata": {},
   "outputs": [],
   "source": [
    "loaded_model = Model(df=hp_s, model=old_model)"
   ]
  },
  {
   "cell_type": "code",
   "execution_count": 103,
   "id": "4f680f79",
   "metadata": {},
   "outputs": [
    {
     "ename": "AttributeError",
     "evalue": "'Model' object has no attribute 'X_test'",
     "output_type": "error",
     "traceback": [
      "\u001b[0;31m---------------------------------------------------------------------------\u001b[0m",
      "\u001b[0;31mAttributeError\u001b[0m                            Traceback (most recent call last)",
      "\u001b[0;32m<ipython-input-103-6241bea66064>\u001b[0m in \u001b[0;36m<module>\u001b[0;34m\u001b[0m\n\u001b[0;32m----> 1\u001b[0;31m \u001b[0mblah2\u001b[0m\u001b[0;34m.\u001b[0m\u001b[0mpredict_plot\u001b[0m\u001b[0;34m(\u001b[0m\u001b[0;34m)\u001b[0m\u001b[0;34m\u001b[0m\u001b[0;34m\u001b[0m\u001b[0m\n\u001b[0m",
      "\u001b[0;32m<ipython-input-70-241aa3205a0d>\u001b[0m in \u001b[0;36mpredict_plot\u001b[0;34m(self, X_test)\u001b[0m\n\u001b[1;32m     61\u001b[0m \u001b[0;34m\u001b[0m\u001b[0m\n\u001b[1;32m     62\u001b[0m         \u001b[0;32mif\u001b[0m \u001b[0mX_test\u001b[0m \u001b[0;32mis\u001b[0m \u001b[0;32mNone\u001b[0m\u001b[0;34m:\u001b[0m\u001b[0;34m\u001b[0m\u001b[0;34m\u001b[0m\u001b[0m\n\u001b[0;32m---> 63\u001b[0;31m             \u001b[0mX_test\u001b[0m \u001b[0;34m=\u001b[0m \u001b[0mself\u001b[0m\u001b[0;34m.\u001b[0m\u001b[0mX_test\u001b[0m\u001b[0;34m\u001b[0m\u001b[0;34m\u001b[0m\u001b[0m\n\u001b[0m\u001b[1;32m     64\u001b[0m \u001b[0;34m\u001b[0m\u001b[0m\n\u001b[1;32m     65\u001b[0m         \u001b[0myhat\u001b[0m \u001b[0;34m=\u001b[0m \u001b[0mself\u001b[0m\u001b[0;34m.\u001b[0m\u001b[0mpredict\u001b[0m\u001b[0;34m(\u001b[0m\u001b[0mX_test\u001b[0m\u001b[0;34m)\u001b[0m\u001b[0;34m\u001b[0m\u001b[0;34m\u001b[0m\u001b[0m\n",
      "\u001b[0;31mAttributeError\u001b[0m: 'Model' object has no attribute 'X_test'"
     ]
    }
   ],
   "source": [
    "loaded_model.predict_plot()"
   ]
  },
  {
   "cell_type": "code",
   "execution_count": null,
   "id": "4518091f",
   "metadata": {},
   "outputs": [],
   "source": []
  }
 ],
 "metadata": {
  "kernelspec": {
   "display_name": "Python 3",
   "language": "python",
   "name": "python3"
  },
  "language_info": {
   "codemirror_mode": {
    "name": "ipython",
    "version": 3
   },
   "file_extension": ".py",
   "mimetype": "text/x-python",
   "name": "python",
   "nbconvert_exporter": "python",
   "pygments_lexer": "ipython3",
   "version": "3.8.8"
  }
 },
 "nbformat": 4,
 "nbformat_minor": 5
}
